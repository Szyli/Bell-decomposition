{
 "cells": [
  {
   "cell_type": "markdown",
   "metadata": {},
   "source": [
    "# Test of algorithm steps"
   ]
  },
  {
   "cell_type": "code",
   "execution_count": null,
   "metadata": {},
   "outputs": [],
   "source": [
    "import numpy as np\n",
    "import os\n",
    "\n",
    "if os.getcwd()[-9:]==\"notebooks\":\n",
    "    os.chdir(\"..\")\n",
    "\n",
    "import sMZI_copy as itf"
   ]
  },
  {
   "cell_type": "code",
   "execution_count": 2,
   "metadata": {},
   "outputs": [],
   "source": [
    "def print_matrix(M: np.ndarray, prec: int=2):\n",
    "    \"\"\"\n",
    "    Function to print a given matrix in a nice way.\n",
    "    \n",
    "    Parameters\n",
    "    ------\n",
    "    M : matrix to print\n",
    "    prec : floating point precision\n",
    "    \"\"\"\n",
    "    for row in M:\n",
    "        print(f\"{np.array2string(row, precision=prec ,formatter={'float': lambda row: f'{row:.2f}'},separator=', ')}\")\n",
    "    print('\\n')\n",
    "\n",
    "def print_data_ext_ps(V1: np.complex_, V2: np.complex_):\n",
    "    \"\"\"\n",
    "    Function to print data on the effect of the external phaseshift\n",
    "    that's used to match the phases of two given elements.\n",
    "    \n",
    "    Parameters\n",
    "    ------\n",
    "    V1 : element of the auxillary matrix `V`\n",
    "    V2 : subsequent element of **V1**\n",
    "    \n",
    "    ---\n",
    "    \n",
    "    Further description:\n",
    "    ---\n",
    "    When it comes to the effect of the external phaseshift  `P`:\n",
    "    \n",
    "    - for **even** diagonals ( j=2,4... ):\n",
    "    >> ``V1 = V[x,y]`` ,  ``V2 = V[x-1,y]``\n",
    "    \n",
    "    - for **odd** diagonals ( j=1,3... ):\n",
    "    >> ``V1 = V[x,y]`` ,  ``V2 = V[x,y+1]``\n",
    "    \n",
    "    ---\n",
    "    When it comes to the effect of `exp(i*summa)` in `M`:\n",
    "    \n",
    "    - for **even** diagonals ( j=2,4... ):\n",
    "    >> ``V1 = V[x-1,y-1]`` ,  ``V2 = V[x-1,y]``\n",
    "    \n",
    "    - for **odd** diagonals ( j=1,3... ):\n",
    "    >> ``V1 = V[x+1,y+1]`` ,  ``V2 = V[x,y+1]``\n",
    "    \n",
    "    \"\"\"\n",
    "    \n",
    "    eq_stat = ((np.angle(V1) - np.angle(V2)).round(10) == 0)\n",
    "    eq_str = \"\\nThey are matching!\"\n",
    "    neq_str = \"\\nThey are NOT matching!\\n\"\n",
    "\n",
    "    print('Affected elements:\\t',\n",
    "        \"{:.2f}, {:.2f}\".format(V1, V2))\n",
    "    print('Corresponding angles:\\t',\n",
    "        \"{:.2f}, {:.2f}\".format(np.angle(V1), np.angle(V2)))\n",
    "\n",
    "    if eq_stat:\n",
    "        print(eq_str)\n",
    "    else:\n",
    "        print(neq_str)\n",
    "        print('Full length of angles:\\n',\n",
    "            \"{}, {}\".format(np.angle(V1), np.angle(V2)))\n",
    "        print('\\nTheir difference:\\t',\n",
    "            \"{}\".format(np.angle(V1) - np.angle(V2)))"
   ]
  },
  {
   "cell_type": "code",
   "execution_count": 3,
   "metadata": {},
   "outputs": [],
   "source": [
    "U = itf.random_unitary(4)"
   ]
  },
  {
   "cell_type": "markdown",
   "metadata": {},
   "source": [
    "## Odd diagonals"
   ]
  },
  {
   "cell_type": "markdown",
   "metadata": {},
   "source": [
    "### Finding external phaseshifts\n",
    "They match the given elements' phases"
   ]
  },
  {
   "cell_type": "code",
   "execution_count": null,
   "metadata": {},
   "outputs": [],
   "source": [
    "V = np.conjugate(U.T)\n",
    "# odd diags: 1,3,5...\n",
    "m = U.shape[0]\n",
    "j = 1\n",
    "\n",
    "x = m-1\n",
    "y = j-1\n",
    "s = y+1\n",
    "\n",
    "P = itf.external_ps(m, s, V[x,y], V[x,y+1])\n",
    "# print('old V:\\n')\n",
    "# print_matrix(V)\n",
    "V = np.matmul(V,P)\n",
    "# print(\"NOTE: {}. column was affected!\".format(j+1))\n",
    "# print('new V:\\n')\n",
    "# print_matrix(V)\n",
    "\n",
    "print_data_ext_ps(V[x,y],V[x,y+1])"
   ]
  },
  {
   "cell_type": "markdown",
   "metadata": {},
   "source": [
    "### Finding internal phaseshifts\n",
    "$\\delta$ and $\\sum$"
   ]
  },
  {
   "cell_type": "code",
   "execution_count": null,
   "metadata": {},
   "outputs": [],
   "source": [
    "# looking at odd diagonal version!\n",
    "\n",
    "# minus sign ! Note that the function custom_arctan(V1,V2) computes the arctan of -V1/V2 !\n",
    "delta = itf.custom_arctan(V[x,y+1], V[x,y])\n",
    "\n",
    "print(\"delta:\\t{:.2f}\\t -> real: {}\\nangle:\\t{}°\".format(\n",
    "    delta, not np.iscomplex(delta), np.angle(delta,True)))\n",
    "\n",
    "# if k == j: summ = 0\n",
    "summ = 0\n",
    "\n",
    "#compute the angles theta1 and theta2:\n",
    "theta1 = delta-summ\n",
    "theta2 = 2*summ-theta1\n",
    "print('Check internal phases')\n",
    "print((theta1+theta2)/2-summ)\n",
    "print((theta1-theta2)/2-delta)\n",
    "\n",
    "# might need to change into 'k' dependence\n",
    "modes = [y, y+1]    # initial mode-pairs    NOTE: need to update it to x,y dependence\n",
    "M = np.eye(m, dtype=np.complex_)\n",
    "M[modes[0],modes[0]] =  np.sin(delta) * np.exp(1j*summ) * np.exp(1j*np.pi/2)\n",
    "M[modes[1],modes[0]] =  np.cos(delta) * np.exp(1j*summ) * np.exp(1j*np.pi/2)\n",
    "M[modes[0],modes[1]] =  np.cos(delta) * np.exp(1j*summ) * np.exp(1j*np.pi/2)\n",
    "M[modes[1],modes[1]] = -np.sin(delta) * np.exp(1j*summ) * np.exp(1j*np.pi/2)\n",
    "\n",
    "print('\\nBlock of M:\\n')\n",
    "print_matrix(M[y:y+2,y:y+2])\n",
    "\n",
    "\n",
    "# print('old V:\\n')\n",
    "# print_matrix(V)\n",
    "V = np.matmul(V,M)\n",
    "# print(\"NOTE: {}. and {}. column were affected!\".format(j,j+1))\n",
    "# print('new V:\\n')\n",
    "print_matrix(V)"
   ]
  },
  {
   "cell_type": "code",
   "execution_count": null,
   "metadata": {},
   "outputs": [],
   "source": [
    "print(\"Nulled element:\\tRe({:.2f}) Im({:.2f})\".format(V[x,y].real, V[x,y].imag))\n",
    "print(\"abs: {:.2f}, angle: {:.2f}°\\n\".format(np.abs(V[x,y]), np.angle(V[x,y],True)))\n",
    "# print('Elements affected by e^(i*summ)')\n",
    "# print_data_ext_ps(V[x-1,y], V[x-1,y+1])"
   ]
  },
  {
   "cell_type": "markdown",
   "metadata": {},
   "source": [
    "## Even diagonals"
   ]
  },
  {
   "cell_type": "markdown",
   "metadata": {},
   "source": [
    "### Finding external phaseshifts\n",
    "They match the given elements' phases"
   ]
  },
  {
   "cell_type": "code",
   "execution_count": null,
   "metadata": {},
   "outputs": [],
   "source": [
    "# V = np.conjugate(U.T)\n",
    "# even diags: 2,4,6...\n",
    "m = U.shape[0]\n",
    "j = 2\n",
    "\n",
    "x = m-j\n",
    "y = 0\n",
    "s = x-1\n",
    "\n",
    "P = itf.external_ps(m, s, V[x,y], V[x-1,y])\n",
    "# print('old V:\\n')\n",
    "# print_matrix(V)\n",
    "V = np.matmul(P,V)\n",
    "# print(\"NOTE: {}. row was affected!\".format(j+1))\n",
    "# print('new V:\\n')\n",
    "# print_matrix(V)\n",
    "\n",
    "print_data_ext_ps(V[x,y],V[x-1,y])"
   ]
  },
  {
   "cell_type": "code",
   "execution_count": null,
   "metadata": {},
   "outputs": [],
   "source": [
    "#My ansatz\n",
    "\n",
    "# V = np.conjugate(U.T)\n",
    "# even diags: 2,4,6...\n",
    "m = U.shape[0]\n",
    "j = 2\n",
    "\n",
    "x = m-j\n",
    "y = 0\n",
    "\n",
    "P = itf.external_ps(m, 0, V[x,y], V[x-1,y]) #ToDo: Find out the logic where to put the external PS!\n",
    "# print('old V:\\n')\n",
    "print_matrix(P)\n",
    "V = np.matmul(P,V)\n",
    "# print(\"NOTE: {}. row was affected!\".format(j+1))\n",
    "# print('new V:\\n')\n",
    "# print_matrix(V)\n",
    "\n",
    "print_data_ext_ps(V[x,y],V[x-1,y])"
   ]
  },
  {
   "cell_type": "markdown",
   "metadata": {},
   "source": [
    "### Finding internal phaseshifts\n",
    "$\\delta$ and $\\sum$"
   ]
  },
  {
   "cell_type": "code",
   "execution_count": null,
   "metadata": {},
   "outputs": [],
   "source": [
    "x"
   ]
  },
  {
   "cell_type": "code",
   "execution_count": null,
   "metadata": {},
   "outputs": [],
   "source": [
    "# looking at odd diagonal version!\n",
    "\n",
    "# minus sign !\n",
    "delta = itf.custom_arctan(-V[x-1,y], V[x,y])\n",
    "\n",
    "print(\"delta:\\t{:.2f}\\t -> real: {}\\nangle:\\t{}°\".format(\n",
    "    delta, not np.iscomplex(delta), np.angle(delta,True)))\n",
    "\n",
    "summ = np.angle(V[x+1,y+1]) - np.angle(V[x-1,y+1]*np.cos(delta) - V[x,y+1]*np.sin(delta)) + np.pi/2\n",
    "\n",
    "# print('\\nangles to get equal by summa:\\n',\n",
    "#       np.angle(V[x+1,y+1]),\n",
    "#       np.angle(V[x,y+1]*np.cos(delta) - V[x+1,y+1]*np.sin(delta)),'\\n',\n",
    "#       'summa:',summ)\n",
    "\n",
    "# summ = 0\n",
    "\n",
    "# might need to change into 'k' dependence\n",
    "modes = [x-1, x]    # initial mode-pairs    NOTE: need to update it to x,y dependence\n",
    "M = np.eye(m, dtype=np.complex_)\n",
    "M[modes[0],modes[0]] =  np.sin(delta) * np.exp(1j*summ) * np.exp(1j*np.pi/2)\n",
    "M[modes[1],modes[0]] =  np.cos(delta) * np.exp(1j*summ) * np.exp(1j*np.pi/2)\n",
    "M[modes[0],modes[1]] =  np.cos(delta) * np.exp(1j*summ) * np.exp(1j*np.pi/2)\n",
    "M[modes[1],modes[1]] = -np.sin(delta) * np.exp(1j*summ) * np.exp(1j*np.pi/2)\n",
    "\n",
    "# print('\\nBlock of M:\\n')\n",
    "# print_matrix(M[x-1:x+1,x-1:x+1])\n",
    "# print_matrix(M)\n",
    "\n",
    "\n",
    "# print('old V:\\n')\n",
    "# print_matrix(V)\n",
    "V = np.matmul(M,V)\n",
    "# print(\"NOTE: {}. and {}. rows were affected!\".format(j,j+1))\n",
    "# print('new V:\\n')\n",
    "# print_matrix(V)"
   ]
  },
  {
   "cell_type": "code",
   "execution_count": null,
   "metadata": {},
   "outputs": [],
   "source": [
    "print(\"Nulled element:\\tRe({:.2f}) Im({:.2f})\".format(V[x,y].real, V[x,y].imag))\n",
    "print(\"abs: {:.2f}, angle: {:.2f}°\\n\".format(np.abs(V[x,y]), np.angle(V[x,y],True)))\n",
    "print('Elements affected by e^(i*summ):\\n')\n",
    "print_data_ext_ps(V[x+1,y+1], V[x,y+1])"
   ]
  },
  {
   "cell_type": "markdown",
   "metadata": {},
   "source": [
    "### Continuation on the chosen diagonal\n",
    "Without correct $\\sum$ it's wrong"
   ]
  },
  {
   "cell_type": "code",
   "execution_count": null,
   "metadata": {},
   "outputs": [],
   "source": [
    "x += 1\n",
    "y += 1\n",
    "\n",
    "delta = itf.custom_arctan(-V[x-1,y], V[x,y])\n",
    "print(\"delta:\\t{:.2f}\\t -> real: {}\\nangle:\\t{}°\".format(\n",
    "    delta, not np.iscomplex(delta), np.angle(delta,True)))\n",
    "\n",
    "summ = 0\n",
    "\n",
    "modes = [x-1, x]     # initial mode-pairs\n",
    "M = np.eye(m, dtype=np.complex_)\n",
    "M[modes[0],modes[0]] =  np.sin(delta) * np.exp(1j*summ) * np.exp(1j*np.pi/2)\n",
    "M[modes[1],modes[0]] =  np.cos(delta) * np.exp(1j*summ) * np.exp(1j*np.pi/2)\n",
    "M[modes[0],modes[1]] =  np.cos(delta) * np.exp(1j*summ) * np.exp(1j*np.pi/2)\n",
    "M[modes[1],modes[1]] = -np.sin(delta) * np.exp(1j*summ) * np.exp(1j*np.pi/2)\n",
    "\n",
    "# print('\\nBlock of M:\\n')\n",
    "# print_matrix(M[x-1:x+1,x-1:x+1])\n",
    "\n",
    "# print('old V:\\n')\n",
    "# print_matrix(V)\n",
    "V = np.matmul(M,V)\n",
    "# print(\"NOTE: {}. and {}. rows were affected!\".format(x,x+1))\n",
    "# print('new V:\\n')\n",
    "# print_matrix(V)"
   ]
  },
  {
   "cell_type": "code",
   "execution_count": null,
   "metadata": {},
   "outputs": [],
   "source": [
    "print(\"Nulled element:\\tRe({:.2f}) Im({:.2f})\".format(V[x,y].real, V[x,y].imag))\n",
    "print(\"abs: {:.2f}, angle: {:.2f}°\\n\".format(np.abs(V[x,y]), np.angle(V[x,y],True)))\n",
    "# print('Elements affected by e^(i*summ)')\n",
    "# print_data_ext_ps(V[x-1,y], V[x-1,y+1])"
   ]
  },
  {
   "cell_type": "code",
   "execution_count": null,
   "metadata": {},
   "outputs": [],
   "source": [
    "print_matrix(V.round(10))"
   ]
  },
  {
   "cell_type": "markdown",
   "metadata": {},
   "source": [
    "## Odd diagonal 2.\n",
    "Diagonal with more than one element"
   ]
  },
  {
   "cell_type": "markdown",
   "metadata": {},
   "source": [
    "### Finding external phaseshifts\n",
    "They match the given elements' phases"
   ]
  },
  {
   "cell_type": "code",
   "execution_count": null,
   "metadata": {},
   "outputs": [],
   "source": [
    "# odd diags: 1,3,5...\n",
    "m = U.shape[0]\n",
    "j = 3\n",
    "\n",
    "x = m-1\n",
    "y = j-1\n",
    "s = y+1\n",
    "\n",
    "P = itf.external_ps(m, s, V[x,y], V[x,y+1])\n",
    "# print('old V:\\n')\n",
    "# print_matrix(V)\n",
    "V = np.matmul(V,P)\n",
    "# print(\"NOTE: {}. column was affected!\".format(j+1))\n",
    "# print('new V:\\n')\n",
    "# print_matrix(V)\n",
    "\n",
    "print_data_ext_ps(V[x,y],V[x,y+1])\n",
    "print_matrix(V)"
   ]
  },
  {
   "cell_type": "markdown",
   "metadata": {},
   "source": [
    "### Finding internal phaseshifts\n",
    "$\\delta$ and $\\sum$"
   ]
  },
  {
   "cell_type": "code",
   "execution_count": null,
   "metadata": {},
   "outputs": [],
   "source": [
    "# looking at odd diagonal version!\n",
    "\n",
    "# minus sign !\n",
    "delta = itf.custom_arctan(V[x,y+1], V[x,y])\n",
    "\n",
    "print(\"delta:\\t{:.2f}\\t -> real: {}\\nangle:\\t{}°\".format(\n",
    "    delta, not np.iscomplex(delta), np.angle(delta,True)))\n",
    "\n",
    "# if k == j: summ = 0\n",
    "summ = np.angle(V[x-1,y-1]) - np.angle(V[x-1,y]*np.sin(delta) + V[x-1,y+1]*np.cos(delta)) + np.pi/2\n",
    "\n",
    "# might need to change into 'k' dependence\n",
    "modes = [y, y+1]    # initial mode-pairs    NOTE: need to update it to x,y dependence\n",
    "M = np.eye(m, dtype=np.complex_)\n",
    "M[modes[0],modes[0]] =  np.sin(delta) * np.exp(1j*summ) * np.exp(1j*np.pi/2)\n",
    "M[modes[1],modes[0]] =  np.cos(delta) * np.exp(1j*summ) * np.exp(1j*np.pi/2)\n",
    "M[modes[0],modes[1]] =  np.cos(delta) * np.exp(1j*summ) * np.exp(1j*np.pi/2)\n",
    "M[modes[1],modes[1]] = -np.sin(delta) * np.exp(1j*summ) * np.exp(1j*np.pi/2)\n",
    "\n",
    "print('\\nBlock of M:\\n')\n",
    "print_matrix(M[y:y+2,y:y+2])\n",
    "print_matrix(M)\n",
    "\n",
    "# print('old V:\\n')\n",
    "# print_matrix(V)\n",
    "V = np.matmul(V,M)\n",
    "# print(\"NOTE: {}. and {}. column were affected!\".format(j,j+1))\n",
    "# print('new V:\\n')\n",
    "print(np.angle(V[2][1]),np.angle(V[2][2]))"
   ]
  },
  {
   "cell_type": "code",
   "execution_count": null,
   "metadata": {},
   "outputs": [],
   "source": [
    "print(\"Nulled element:\\tRe({:.2f}) Im({:.2f})\".format(V[x,y].real, V[x,y].imag))\n",
    "print(\"abs: {:.2f}, angle: {:.2f}°\\n\".format(np.abs(V[x,y]), np.angle(V[x,y],True)))\n",
    "# print('Elements affected by e^(i*summ)')\n",
    "# print_data_ext_ps(V[x-1,y], V[x-1,y+1])"
   ]
  },
  {
   "cell_type": "code",
   "execution_count": null,
   "metadata": {},
   "outputs": [],
   "source": [
    "x -= 1\n",
    "y -= 1\n",
    "\n",
    "delta = itf.custom_arctan(V[x,y+1], V[x,y])\n",
    "\n",
    "print(\"delta:\\t{:.2f}\\t -> real: {}\\nangle:\\t{}°\".format(\n",
    "    delta, not np.iscomplex(delta), np.angle(delta,True)))\n",
    "\n",
    "# if k == j: summ = 0\n",
    "summ = np.angle(V[x-1,y-1]) - np.angle(V[x-1,y]*np.sin(delta) + V[x-1,y+1]*np.cos(delta)) + np.pi/2\n",
    "\n",
    "# might need to change into 'k' dependence\n",
    "modes = [y, y+1]    # initial mode-pairs    NOTE: need to update it to x,y dependence\n",
    "M = np.eye(m, dtype=np.complex_)\n",
    "M[modes[0],modes[0]] =  np.sin(delta) * np.exp(1j*summ) * np.exp(1j*np.pi/2)\n",
    "M[modes[1],modes[0]] =  np.cos(delta) * np.exp(1j*summ) * np.exp(1j*np.pi/2)\n",
    "M[modes[0],modes[1]] =  np.cos(delta) * np.exp(1j*summ) * np.exp(1j*np.pi/2)\n",
    "M[modes[1],modes[1]] = -np.sin(delta) * np.exp(1j*summ) * np.exp(1j*np.pi/2)\n",
    "\n",
    "print('\\nBlock of M:\\n')\n",
    "print_matrix(M[y:y+2,y:y+2])\n",
    "\n",
    "\n",
    "# print('old V:\\n')\n",
    "# print_matrix(V)\n",
    "V = np.matmul(V,M)\n",
    "# print(\"NOTE: {}. and {}. column were affected!\".format(j,j+1))\n",
    "# print('new V:\\n')\n",
    "print_matrix(V)\n",
    "print(np.angle(V[1][0]),np.angle(V[1][1]))"
   ]
  },
  {
   "cell_type": "code",
   "execution_count": null,
   "metadata": {},
   "outputs": [],
   "source": [
    "print(\"Nulled element:\\tRe({:.2f}) Im({:.2f})\".format(V[x,y].real, V[x,y].imag))\n",
    "print(\"abs: {:.2f}, angle: {:.2f}°\\n\".format(np.abs(V[x,y]), np.angle(V[x,y],True)))\n",
    "# print('Elements affected by e^(i*summ)')\n",
    "# print_data_ext_ps(V[x-1,y], V[x-1,y+1])"
   ]
  },
  {
   "cell_type": "code",
   "execution_count": null,
   "metadata": {},
   "outputs": [],
   "source": [
    "x -= 1\n",
    "y -= 1\n",
    "\n",
    "delta = itf.custom_arctan(V[x,y+1], V[x,y])\n",
    "\n",
    "print(\"delta:\\t{:.2f}\\t -> real: {}\\nangle:\\t{}°\".format(\n",
    "    delta, not np.iscomplex(delta), np.angle(delta,True)))\n",
    "\n",
    "# if k == j: summ = 0\n",
    "#summ = np.angle(V[x-1,y-1]) - np.angle(V[x-1,y]*np.sin(delta) + V[x-1,y+1]*np.cos(delta))\n",
    "summ = 0\n",
    "\n",
    "# might need to change into 'k' dependence\n",
    "modes = [y, y+1]    # initial mode-pairs    NOTE: need to update it to x,y dependence\n",
    "M = np.eye(m, dtype=np.complex_)\n",
    "M[modes[0],modes[0]] =  np.sin(delta) * np.exp(1j*summ) * np.exp(1j*np.pi/2)\n",
    "M[modes[1],modes[0]] =  np.cos(delta) * np.exp(1j*summ) * np.exp(1j*np.pi/2)\n",
    "M[modes[0],modes[1]] =  np.cos(delta) * np.exp(1j*summ) * np.exp(1j*np.pi/2)\n",
    "M[modes[1],modes[1]] = -np.sin(delta) * np.exp(1j*summ) * np.exp(1j*np.pi/2)\n",
    "\n",
    "print('\\nBlock of M:\\n')\n",
    "print_matrix(M[y:y+2,y:y+2])\n",
    "\n",
    "\n",
    "# print('old V:\\n')\n",
    "# print_matrix(V)\n",
    "V = np.matmul(V,M)\n",
    "# print(\"NOTE: {}. and {}. column were affected!\".format(j,j+1))\n",
    "# print('new V:\\n')\n",
    "# print_matrix(V)"
   ]
  },
  {
   "cell_type": "code",
   "execution_count": null,
   "metadata": {},
   "outputs": [],
   "source": [
    "print(x,y)\n",
    "V.round(3)"
   ]
  },
  {
   "cell_type": "markdown",
   "metadata": {},
   "source": [
    "now we implement the other external phases which are shifted to the middle"
   ]
  },
  {
   "cell_type": "code",
   "execution_count": null,
   "metadata": {},
   "outputs": [],
   "source": [
    "m = 4\n",
    "for j in range(2,m+1):\n",
    "   # xi = np.angle(V[0][0])-np.angle(V[j-1][j-1])\n",
    "    V = np.dot(V,itf.external_ps(m, j-1, V[0,0], V[j-1,j-1]))\n",
    "print_matrix(V.round(10))"
   ]
  },
  {
   "cell_type": "markdown",
   "metadata": {},
   "source": [
    "# Test of module\n",
    "## <center>TODO</center>\n",
    "- &#x2611; check if $V$ is a diagonal matrix after the decomposition\n",
    "---\n",
    "- &#x2610; extend module to save found phases: $\\phi$, $\\delta$, $\\sum$ $\\Rightarrow$ $\\theta_1$ & $\\theta_2$ $\\rightarrow$ done, but maybe needs to be adapted\n",
    "- &#x2610; check the function in module that recreates the initial unitary matrix based on the decomposed matrices (probably needs work)\n",
    "- &#x2610; update the drawing function in the module such that it follows the updated **Clement's** `draw()` function but with sMZI:s\n",
    "- &#x2610; Finally: sweep through the whole module and finalise *comments*, *documentation*, *variables* and implement possible *optimalisations*\n",
    "---\n",
    "- &#x2610; optional: `import numba` for faster execution; optimized machine code at runtime"
   ]
  },
  {
   "cell_type": "code",
   "execution_count": 3,
   "metadata": {},
   "outputs": [],
   "source": [
    "# including imports again in case someone only wishes\n",
    "# to run this part of the notebook\n",
    "import numpy as np\n",
    "import os\n",
    "\n",
    "if os.getcwd()[-9:]==\"notebooks\":\n",
    "    os.chdir(\"..\")\n",
    "\n",
    "import sMZI as itf\n",
    "\n",
    "def print_matrix(M: np.ndarray, prec: int=2):\n",
    "    \"\"\"\n",
    "    Function to print a given matrix in a nice way.\n",
    "    \n",
    "    Parameters\n",
    "    ------\n",
    "    M : matrix to print\n",
    "    prec : floating point precision\n",
    "    \"\"\"\n",
    "    for row in M:\n",
    "        print(f\"{np.array2string(row, precision=prec ,formatter={'float': lambda row: f'{row:.2f}'},separator=', ', suppress_small=True)}\")\n",
    "    print('\\n')\n",
    "\n",
    "def check_symmetric(a, rtol=1e-05, atol=1e-08):\n",
    "    return np.allclose(a, a.T, rtol=rtol, atol=atol)\n",
    "\n",
    "\n",
    "U = itf.random_unitary(4)\n",
    "I = itf.square_decomposition(U)\n",
    "\n",
    "# I.draw()"
   ]
  },
  {
   "cell_type": "markdown",
   "metadata": {},
   "source": [
    "## ``Interferometer.draw()`` to be updated!\n",
    "\n",
    "Figuring out the final structure of the circuit:"
   ]
  },
  {
   "cell_type": "code",
   "execution_count": 9,
   "metadata": {},
   "outputs": [
    {
     "data": {
      "image/png": "[encoded data removed]",
      "text/plain": [
       "<Figure size 1200x800 with 1 Axes>"
      ]
     },
     "metadata": {},
     "output_type": "display_data"
    }
   ],
   "source": [
    "# I.draw()\n",
    "I.draw()"
   ]
  },
  {
   "cell_type": "code",
   "execution_count": 5,
   "metadata": {},
   "outputs": [
    {
     "name": "stdout",
     "output_type": "stream",
     "text": [
      "number of output phases: 1\n",
      "number of input phases: 2\n",
      "\n",
      "The matrix encrypting the circuit after Bell's PS shifting:\n",
      "\n",
      "[-2.92+0.j,  4.43+0.j, -6.91-0.j,  0.  +0.j]\n",
      "[-0.22-0.j, -0.57-0.j, -5.09+0.j, -0.13+0.j]\n",
      "[-0.29+0.j,  0.64+0.j, -2.93-0.j, -1.32-0.j]\n",
      "[ 1.22-0.j,  0.66+0.j, -4.14+0.j,  1.96+0.j]\n",
      "\n",
      "\n",
      "The full circuit:\n",
      " [  External PS on mode 1 with angle \t phi: 0.37\n",
      "\n",
      "  External PS on mode 3 with angle \t phi: 0.13\n",
      "\n",
      "  MZI between modes 0 and 1:\n",
      "  The angle on 0: -2.92+0.00j\n",
      "  The angle on 1: -0.22-0.00j\n",
      "                                MZI between modes 2 and 3:\n",
      "                                The angle on 2: -0.29+0.00j\n",
      "                                The angle on 3: 1.22-0.00j\n",
      "\n",
      "  MZI between modes 1 and 2:\n",
      "  The angle on 1: -0.57-0.00j\n",
      "  The angle on 2: 0.64+0.00j\n",
      "\n",
      "  External PS on mode 0 with angle \t phi: 4.43+0.00j\n",
      "\n",
      "  External PS on mode 3 with angle \t phi: 0.66+0.00j\n",
      "\n",
      "  MZI between modes 2 and 3:\n",
      "  The angle on 2: -2.93-0.00j\n",
      "  The angle on 3: -4.14+0.00j\n",
      "                                MZI between modes 0 and 1:\n",
      "                                The angle on 0: -6.91-0.00j\n",
      "                                The angle on 1: -5.09+0.00j\n",
      "\n",
      "  MZI between modes 1 and 2:\n",
      "  The angle on 1: -0.13+0.00j\n",
      "  The angle on 2: -1.32-0.00j\n",
      "\n",
      "  External PS on mode 0 with angle \t phi: 0.00+0.00j\n",
      "\n",
      "  External PS on mode 3 with angle \t phi: 1.96+0.00j\n",
      "\n",
      "  External PS on mode 1 with angle \t phi: -1.60]\n"
     ]
    }
   ],
   "source": [
    "print(\"number of output phases: {}\\nnumber of input phases: {}\".format(np.count_nonzero(I.output_phases),np.count_nonzero(I.input_phases)))\n",
    "print(\"\\nThe matrix encrypting the circuit after Bell's PS shifting:\\n\")\n",
    "print_matrix(I.circuit)\n",
    "print(\"The full circuit:\\n\",I.circuit_prep())"
   ]
  },
  {
   "cell_type": "code",
   "execution_count": null,
   "metadata": {},
   "outputs": [],
   "source": []
  }
 ],
 "metadata": {
  "kernelspec": {
   "display_name": "base",
   "language": "python",
   "name": "python3"
  },
  "language_info": {
   "codemirror_mode": {
    "name": "ipython",
    "version": 3
   },
   "file_extension": ".py",
   "mimetype": "text/x-python",
   "name": "python",
   "nbconvert_exporter": "python",
   "pygments_lexer": "ipython3",
   "version": "3.11.9"
  }
 },
 "nbformat": 4,
 "nbformat_minor": 2
}
