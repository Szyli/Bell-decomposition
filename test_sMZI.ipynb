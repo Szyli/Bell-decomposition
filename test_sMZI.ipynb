{
 "cells": [
  {
   "cell_type": "markdown",
   "metadata": {},
   "source": [
    "# Test of algorithm steps"
   ]
  },
  {
   "cell_type": "code",
   "execution_count": null,
   "metadata": {},
   "outputs": [],
   "source": [
    "import numpy as np\n",
    "import os\n",
    "\n",
    "if os.getcwd()[-9:]==\"notebooks\":\n",
    "    os.chdir(\"..\")\n",
    "\n",
    "import sMZI_copy as itf"
   ]
  },
  {
   "cell_type": "code",
   "execution_count": 2,
   "metadata": {},
   "outputs": [],
   "source": [
    "def print_matrix(M: np.ndarray, prec: int=2):\n",
    "    \"\"\"\n",
    "    Function to print a given matrix in a nice way.\n",
    "    \n",
    "    Parameters\n",
    "    ------\n",
    "    M : matrix to print\n",
    "    prec : floating point precision\n",
    "    \"\"\"\n",
    "    for row in M:\n",
    "        print(f\"{np.array2string(row, precision=prec ,formatter={'float': lambda row: f'{row:.2f}'},separator=', ')}\")\n",
    "    print('\\n')\n",
    "\n",
    "def print_data_ext_ps(V1: np.complex_, V2: np.complex_):\n",
    "    \"\"\"\n",
    "    Function to print data on the effect of the external phaseshift\n",
    "    that's used to match the phases of two given elements.\n",
    "    \n",
    "    Parameters\n",
    "    ------\n",
    "    V1 : element of the auxillary matrix `V`\n",
    "    V2 : subsequent element of **V1**\n",
    "    \n",
    "    ---\n",
    "    \n",
    "    Further description:\n",
    "    ---\n",
    "    When it comes to the effect of the external phaseshift  `P`:\n",
    "    \n",
    "    - for **even** diagonals ( j=2,4... ):\n",
    "    >> ``V1 = V[x,y]`` ,  ``V2 = V[x-1,y]``\n",
    "    \n",
    "    - for **odd** diagonals ( j=1,3... ):\n",
    "    >> ``V1 = V[x,y]`` ,  ``V2 = V[x,y+1]``\n",
    "    \n",
    "    ---\n",
    "    When it comes to the effect of `exp(i*summa)` in `M`:\n",
    "    \n",
    "    - for **even** diagonals ( j=2,4... ):\n",
    "    >> ``V1 = V[x-1,y-1]`` ,  ``V2 = V[x-1,y]``\n",
    "    \n",
    "    - for **odd** diagonals ( j=1,3... ):\n",
    "    >> ``V1 = V[x+1,y+1]`` ,  ``V2 = V[x,y+1]``\n",
    "    \n",
    "    \"\"\"\n",
    "    \n",
    "    eq_stat = ((np.angle(V1) - np.angle(V2)).round(10) == 0)\n",
    "    eq_str = \"\\nThey are matching!\"\n",
    "    neq_str = \"\\nThey are NOT matching!\\n\"\n",
    "\n",
    "    print('Affected elements:\\t',\n",
    "        \"{:.2f}, {:.2f}\".format(V1, V2))\n",
    "    print('Corresponding angles:\\t',\n",
    "        \"{:.2f}, {:.2f}\".format(np.angle(V1), np.angle(V2)))\n",
    "\n",
    "    if eq_stat:\n",
    "        print(eq_str)\n",
    "    else:\n",
    "        print(neq_str)\n",
    "        print('Full length of angles:\\n',\n",
    "            \"{}, {}\".format(np.angle(V1), np.angle(V2)))\n",
    "        print('\\nTheir difference:\\t',\n",
    "            \"{}\".format(np.angle(V1) - np.angle(V2)))"
   ]
  },
  {
   "cell_type": "code",
   "execution_count": 3,
   "metadata": {},
   "outputs": [],
   "source": [
    "U = itf.random_unitary(4)"
   ]
  },
  {
   "cell_type": "markdown",
   "metadata": {},
   "source": [
    "## Odd diagonals"
   ]
  },
  {
   "cell_type": "markdown",
   "metadata": {},
   "source": [
    "### Finding external phaseshifts\n",
    "They match the given elements' phases"
   ]
  },
  {
   "cell_type": "code",
   "execution_count": 4,
   "metadata": {},
   "outputs": [
    {
     "ename": "ValueError",
     "evalue": "setting an array element with a sequence. The requested array has an inhomogeneous shape after 1 dimensions. The detected shape was (2,) + inhomogeneous part.",
     "output_type": "error",
     "traceback": [
      "\u001b[1;31m---------------------------------------------------------------------------\u001b[0m",
      "\u001b[1;31mValueError\u001b[0m                                Traceback (most recent call last)",
      "Cell \u001b[1;32mIn[4], line 13\u001b[0m\n\u001b[0;32m     10\u001b[0m P \u001b[38;5;241m=\u001b[39m itf\u001b[38;5;241m.\u001b[39mexternal_ps(m, s, V[x,y], V[x,y\u001b[38;5;241m+\u001b[39m\u001b[38;5;241m1\u001b[39m])\n\u001b[0;32m     11\u001b[0m \u001b[38;5;66;03m# print('old V:\\n')\u001b[39;00m\n\u001b[0;32m     12\u001b[0m \u001b[38;5;66;03m# print_matrix(V)\u001b[39;00m\n\u001b[1;32m---> 13\u001b[0m V \u001b[38;5;241m=\u001b[39m np\u001b[38;5;241m.\u001b[39mmatmul(V,P)\n\u001b[0;32m     14\u001b[0m \u001b[38;5;66;03m# print(\"NOTE: {}. column was affected!\".format(j+1))\u001b[39;00m\n\u001b[0;32m     15\u001b[0m \u001b[38;5;66;03m# print('new V:\\n')\u001b[39;00m\n\u001b[0;32m     16\u001b[0m \u001b[38;5;66;03m# print_matrix(V)\u001b[39;00m\n\u001b[0;32m     18\u001b[0m print_data_ext_ps(V[x,y],V[x,y\u001b[38;5;241m+\u001b[39m\u001b[38;5;241m1\u001b[39m])\n",
      "\u001b[1;31mValueError\u001b[0m: setting an array element with a sequence. The requested array has an inhomogeneous shape after 1 dimensions. The detected shape was (2,) + inhomogeneous part."
     ]
    }
   ],
   "source": [
    "V = np.conjugate(U.T)\n",
    "# odd diags: 1,3,5...\n",
    "m = U.shape[0]\n",
    "j = 1\n",
    "\n",
    "x = m-1\n",
    "y = j-1\n",
    "s = y+1\n",
    "\n",
    "P = itf.external_ps(m, s, V[x,y], V[x,y+1])\n",
    "# print('old V:\\n')\n",
    "# print_matrix(V)\n",
    "V = np.matmul(V,P)\n",
    "# print(\"NOTE: {}. column was affected!\".format(j+1))\n",
    "# print('new V:\\n')\n",
    "# print_matrix(V)\n",
    "\n",
    "print_data_ext_ps(V[x,y],V[x,y+1])"
   ]
  },
  {
   "cell_type": "markdown",
   "metadata": {},
   "source": [
    "### Finding internal phaseshifts\n",
    "$\\delta$ and $\\sum$"
   ]
  },
  {
   "cell_type": "code",
   "execution_count": 30,
   "metadata": {},
   "outputs": [
    {
     "name": "stdout",
     "output_type": "stream",
     "text": [
      "delta:\t-0.68-0.00j\t -> real: False\n",
      "angle:\t-180.0°\n",
      "Check internal phases\n",
      "0j\n",
      "0j\n",
      "\n",
      "Block of M:\n",
      "\n",
      "[-1.79e-17-0.63j,  6.42e-17+0.78j]\n",
      "[6.42e-17+0.78j, 1.79e-17+0.63j]\n",
      "\n",
      "\n",
      "[ 0.53+0.02j, -0.41-0.26j, -0.63-0.26j,  0.11-0.09j]\n",
      "[ 0.05+0.06j, -0.44-0.11j,  0.5 +0.06j,  0.3 -0.67j]\n",
      "[-0.32-0.79j,  0.01-0.32j,  0.03-0.41j,  0.12-0.01j]\n",
      "[-1.75e-17-2.46e-17j,  3.83e-01-5.53e-01j, -1.66e-01+3.00e-01j,\n",
      " -4.63e-01-4.65e-01j]\n",
      "\n",
      "\n"
     ]
    }
   ],
   "source": [
    "# looking at odd diagonal version!\n",
    "\n",
    "# minus sign ! Note that the function custom_arctan(V1,V2) computes the arctan of -V1/V2 !\n",
    "delta = itf.custom_arctan(V[x,y+1], V[x,y])\n",
    "\n",
    "print(\"delta:\\t{:.2f}\\t -> real: {}\\nangle:\\t{}°\".format(\n",
    "    delta, not np.iscomplex(delta), np.angle(delta,True)))\n",
    "\n",
    "# if k == j: summ = 0\n",
    "summ = 0\n",
    "\n",
    "#compute the angles theta1 and theta2:\n",
    "theta1 = delta-summ\n",
    "theta2 = 2*summ-theta1\n",
    "print('Check internal phases')\n",
    "print((theta1+theta2)/2-summ)\n",
    "print((theta1-theta2)/2-delta)\n",
    "\n",
    "# might need to change into 'k' dependence\n",
    "modes = [y, y+1]    # initial mode-pairs    NOTE: need to update it to x,y dependence\n",
    "M = np.eye(m, dtype=np.complex_)\n",
    "M[modes[0],modes[0]] =  np.sin(delta) * np.exp(1j*summ) * np.exp(1j*np.pi/2)\n",
    "M[modes[1],modes[0]] =  np.cos(delta) * np.exp(1j*summ) * np.exp(1j*np.pi/2)\n",
    "M[modes[0],modes[1]] =  np.cos(delta) * np.exp(1j*summ) * np.exp(1j*np.pi/2)\n",
    "M[modes[1],modes[1]] = -np.sin(delta) * np.exp(1j*summ) * np.exp(1j*np.pi/2)\n",
    "\n",
    "print('\\nBlock of M:\\n')\n",
    "print_matrix(M[y:y+2,y:y+2])\n",
    "\n",
    "\n",
    "# print('old V:\\n')\n",
    "# print_matrix(V)\n",
    "V = np.matmul(V,M)\n",
    "# print(\"NOTE: {}. and {}. column were affected!\".format(j,j+1))\n",
    "# print('new V:\\n')\n",
    "print_matrix(V)"
   ]
  },
  {
   "cell_type": "code",
   "execution_count": 31,
   "metadata": {},
   "outputs": [
    {
     "name": "stdout",
     "output_type": "stream",
     "text": [
      "Nulled element:\tRe(-0.00) Im(-0.00)\n",
      "abs: 0.00, angle: -125.37°\n",
      "\n"
     ]
    }
   ],
   "source": [
    "print(\"Nulled element:\\tRe({:.2f}) Im({:.2f})\".format(V[x,y].real, V[x,y].imag))\n",
    "print(\"abs: {:.2f}, angle: {:.2f}°\\n\".format(np.abs(V[x,y]), np.angle(V[x,y],True)))\n",
    "# print('Elements affected by e^(i*summ)')\n",
    "# print_data_ext_ps(V[x-1,y], V[x-1,y+1])"
   ]
  },
  {
   "cell_type": "markdown",
   "metadata": {},
   "source": [
    "## Even diagonals"
   ]
  },
  {
   "cell_type": "markdown",
   "metadata": {},
   "source": [
    "### Finding external phaseshifts\n",
    "They match the given elements' phases"
   ]
  },
  {
   "cell_type": "code",
   "execution_count": 32,
   "metadata": {},
   "outputs": [
    {
     "name": "stdout",
     "output_type": "stream",
     "text": [
      "Affected elements:\t -0.32-0.79j, -0.03-0.07j\n",
      "Corresponding angles:\t -1.95, -1.95\n",
      "\n",
      "They are matching!\n"
     ]
    }
   ],
   "source": [
    "# V = np.conjugate(U.T)\n",
    "# even diags: 2,4,6...\n",
    "m = U.shape[0]\n",
    "j = 2\n",
    "\n",
    "x = m-j\n",
    "y = 0\n",
    "s = x-1\n",
    "\n",
    "P = itf.external_ps(m, s, V[x,y], V[x-1,y])\n",
    "# print('old V:\\n')\n",
    "# print_matrix(V)\n",
    "V = np.matmul(P,V)\n",
    "# print(\"NOTE: {}. row was affected!\".format(j+1))\n",
    "# print('new V:\\n')\n",
    "# print_matrix(V)\n",
    "\n",
    "print_data_ext_ps(V[x,y],V[x-1,y])"
   ]
  },
  {
   "cell_type": "code",
   "execution_count": 33,
   "metadata": {},
   "outputs": [
    {
     "name": "stdout",
     "output_type": "stream",
     "text": [
      "[1.+2.22e-16j, 0.+0.00e+00j, 0.+0.00e+00j, 0.+0.00e+00j]\n",
      "[0.+0.j, 1.+0.j, 0.+0.j, 0.+0.j]\n",
      "[0.+0.j, 0.+0.j, 1.+0.j, 0.+0.j]\n",
      "[0.+0.j, 0.+0.j, 0.+0.j, 1.+0.j]\n",
      "\n",
      "\n",
      "Affected elements:\t -0.32-0.79j, -0.03-0.07j\n",
      "Corresponding angles:\t -1.95, -1.95\n",
      "\n",
      "They are matching!\n"
     ]
    }
   ],
   "source": [
    "#My ansatz\n",
    "\n",
    "# V = np.conjugate(U.T)\n",
    "# even diags: 2,4,6...\n",
    "m = U.shape[0]\n",
    "j = 2\n",
    "\n",
    "x = m-j\n",
    "y = 0\n",
    "\n",
    "P = itf.external_ps(m, 0, V[x,y], V[x-1,y]) #ToDo: Find out the logic where to put the external PS!\n",
    "# print('old V:\\n')\n",
    "print_matrix(P)\n",
    "V = np.matmul(P,V)\n",
    "# print(\"NOTE: {}. row was affected!\".format(j+1))\n",
    "# print('new V:\\n')\n",
    "# print_matrix(V)\n",
    "\n",
    "print_data_ext_ps(V[x,y],V[x-1,y])"
   ]
  },
  {
   "cell_type": "markdown",
   "metadata": {},
   "source": [
    "### Finding internal phaseshifts\n",
    "$\\delta$ and $\\sum$"
   ]
  },
  {
   "cell_type": "code",
   "execution_count": 34,
   "metadata": {},
   "outputs": [
    {
     "data": {
      "text/plain": [
       "2"
      ]
     },
     "execution_count": 34,
     "metadata": {},
     "output_type": "execute_result"
    }
   ],
   "source": [
    "x"
   ]
  },
  {
   "cell_type": "code",
   "execution_count": 35,
   "metadata": {},
   "outputs": [
    {
     "name": "stdout",
     "output_type": "stream",
     "text": [
      "delta:\t0.09-0.00j\t -> real: False\n",
      "angle:\t-9.923767701705308e-15°\n"
     ]
    }
   ],
   "source": [
    "# looking at odd diagonal version!\n",
    "\n",
    "# minus sign !\n",
    "delta = itf.custom_arctan(-V[x-1,y], V[x,y])\n",
    "\n",
    "print(\"delta:\\t{:.2f}\\t -> real: {}\\nangle:\\t{}°\".format(\n",
    "    delta, not np.iscomplex(delta), np.angle(delta,True)))\n",
    "\n",
    "summ = np.angle(V[x+1,y+1]) - np.angle(V[x-1,y+1]*np.cos(delta) - V[x,y+1]*np.sin(delta)) + np.pi/2\n",
    "\n",
    "# print('\\nangles to get equal by summa:\\n',\n",
    "#       np.angle(V[x+1,y+1]),\n",
    "#       np.angle(V[x,y+1]*np.cos(delta) - V[x+1,y+1]*np.sin(delta)),'\\n',\n",
    "#       'summa:',summ)\n",
    "\n",
    "# summ = 0\n",
    "\n",
    "# might need to change into 'k' dependence\n",
    "modes = [x-1, x]    # initial mode-pairs    NOTE: need to update it to x,y dependence\n",
    "M = np.eye(m, dtype=np.complex_)\n",
    "M[modes[0],modes[0]] =  np.sin(delta) * np.exp(1j*summ) * np.exp(1j*np.pi/2)\n",
    "M[modes[1],modes[0]] =  np.cos(delta) * np.exp(1j*summ) * np.exp(1j*np.pi/2)\n",
    "M[modes[0],modes[1]] =  np.cos(delta) * np.exp(1j*summ) * np.exp(1j*np.pi/2)\n",
    "M[modes[1],modes[1]] = -np.sin(delta) * np.exp(1j*summ) * np.exp(1j*np.pi/2)\n",
    "\n",
    "# print('\\nBlock of M:\\n')\n",
    "# print_matrix(M[x-1:x+1,x-1:x+1])\n",
    "# print_matrix(M)\n",
    "\n",
    "\n",
    "# print('old V:\\n')\n",
    "# print_matrix(V)\n",
    "V = np.matmul(M,V)\n",
    "# print(\"NOTE: {}. and {}. rows were affected!\".format(j,j+1))\n",
    "# print('new V:\\n')\n",
    "# print_matrix(V)"
   ]
  },
  {
   "cell_type": "code",
   "execution_count": 36,
   "metadata": {},
   "outputs": [
    {
     "name": "stdout",
     "output_type": "stream",
     "text": [
      "Nulled element:\tRe(0.00) Im(-0.00)\n",
      "abs: 0.00, angle: -11.63°\n",
      "\n",
      "Elements affected by e^(i*summ):\n",
      "\n",
      "Affected elements:\t 0.38-0.55j, -0.27+0.39j\n",
      "Corresponding angles:\t -0.96, 2.18\n",
      "\n",
      "They are NOT matching!\n",
      "\n",
      "Full length of angles:\n",
      " -0.9648413408772352, 2.176751312712558\n",
      "\n",
      "Their difference:\t -3.141592653589793\n"
     ]
    }
   ],
   "source": [
    "print(\"Nulled element:\\tRe({:.2f}) Im({:.2f})\".format(V[x,y].real, V[x,y].imag))\n",
    "print(\"abs: {:.2f}, angle: {:.2f}°\\n\".format(np.abs(V[x,y]), np.angle(V[x,y],True)))\n",
    "print('Elements affected by e^(i*summ):\\n')\n",
    "print_data_ext_ps(V[x+1,y+1], V[x,y+1])"
   ]
  },
  {
   "cell_type": "markdown",
   "metadata": {},
   "source": [
    "### Continuation on the chosen diagonal\n",
    "Without correct $\\sum$ it's wrong"
   ]
  },
  {
   "cell_type": "code",
   "execution_count": 37,
   "metadata": {},
   "outputs": [
    {
     "name": "stdout",
     "output_type": "stream",
     "text": [
      "delta:\t-0.61+0.00j\t -> real: False\n",
      "angle:\t180.0°\n"
     ]
    }
   ],
   "source": [
    "x += 1\n",
    "y += 1\n",
    "\n",
    "delta = itf.custom_arctan(-V[x-1,y], V[x,y])\n",
    "print(\"delta:\\t{:.2f}\\t -> real: {}\\nangle:\\t{}°\".format(\n",
    "    delta, not np.iscomplex(delta), np.angle(delta,True)))\n",
    "\n",
    "summ = 0\n",
    "\n",
    "modes = [x-1, x]     # initial mode-pairs\n",
    "M = np.eye(m, dtype=np.complex_)\n",
    "M[modes[0],modes[0]] =  np.sin(delta) * np.exp(1j*summ) * np.exp(1j*np.pi/2)\n",
    "M[modes[1],modes[0]] =  np.cos(delta) * np.exp(1j*summ) * np.exp(1j*np.pi/2)\n",
    "M[modes[0],modes[1]] =  np.cos(delta) * np.exp(1j*summ) * np.exp(1j*np.pi/2)\n",
    "M[modes[1],modes[1]] = -np.sin(delta) * np.exp(1j*summ) * np.exp(1j*np.pi/2)\n",
    "\n",
    "# print('\\nBlock of M:\\n')\n",
    "# print_matrix(M[x-1:x+1,x-1:x+1])\n",
    "\n",
    "# print('old V:\\n')\n",
    "# print_matrix(V)\n",
    "V = np.matmul(M,V)\n",
    "# print(\"NOTE: {}. and {}. rows were affected!\".format(x,x+1))\n",
    "# print('new V:\\n')\n",
    "# print_matrix(V)"
   ]
  },
  {
   "cell_type": "code",
   "execution_count": 38,
   "metadata": {},
   "outputs": [
    {
     "name": "stdout",
     "output_type": "stream",
     "text": [
      "Nulled element:\tRe(0.00) Im(0.00)\n",
      "abs: 0.00, angle: 13.42°\n",
      "\n"
     ]
    }
   ],
   "source": [
    "print(\"Nulled element:\\tRe({:.2f}) Im({:.2f})\".format(V[x,y].real, V[x,y].imag))\n",
    "print(\"abs: {:.2f}, angle: {:.2f}°\\n\".format(np.abs(V[x,y]), np.angle(V[x,y],True)))\n",
    "# print('Elements affected by e^(i*summ)')\n",
    "# print_data_ext_ps(V[x-1,y], V[x-1,y+1])"
   ]
  },
  {
   "cell_type": "code",
   "execution_count": 39,
   "metadata": {},
   "outputs": [
    {
     "name": "stdout",
     "output_type": "stream",
     "text": [
      "[ 0.53+0.02j, -0.41-0.26j, -0.63-0.26j,  0.11-0.09j]\n",
      "[ 0.79-0.3j ,  0.3 +0.05j,  0.42-0.j  , -0.04+0.08j]\n",
      "[ 0.  -0.j  ,  0.67+0.47j, -0.51-0.24j,  0.1 -0.07j]\n",
      "[0.  +0.j  , 0.  +0.j  , 0.2 +0.05j, 0.67-0.71j]\n",
      "\n",
      "\n"
     ]
    }
   ],
   "source": [
    "print_matrix(V.round(10))"
   ]
  },
  {
   "cell_type": "markdown",
   "metadata": {},
   "source": [
    "## Odd diagonal 2.\n",
    "Diagonal with more than one element"
   ]
  },
  {
   "cell_type": "markdown",
   "metadata": {},
   "source": [
    "### Finding external phaseshifts\n",
    "They match the given elements' phases"
   ]
  },
  {
   "cell_type": "code",
   "execution_count": 40,
   "metadata": {},
   "outputs": [
    {
     "name": "stdout",
     "output_type": "stream",
     "text": [
      "Affected elements:\t 0.20+0.05j, 0.95+0.23j\n",
      "Corresponding angles:\t 0.23, 0.23\n",
      "\n",
      "They are matching!\n",
      "[ 0.53+0.02j, -0.41-0.26j, -0.63-0.26j,  0.13+0.06j]\n",
      "[ 0.79-0.3j ,  0.3 +0.05j,  0.42-0.j  , -0.09+0.j  ]\n",
      "[ 1.74e-17-2.75e-17j,  6.75e-01+4.67e-01j, -5.07e-01-2.35e-01j,\n",
      "  1.07e-01+4.99e-02j]\n",
      "[1.80e-17+8.81e-18j, 4.50e-17+1.07e-17j, 2.02e-01+4.78e-02j,\n",
      " 9.52e-01+2.26e-01j]\n",
      "\n",
      "\n"
     ]
    }
   ],
   "source": [
    "# odd diags: 1,3,5...\n",
    "m = U.shape[0]\n",
    "j = 3\n",
    "\n",
    "x = m-1\n",
    "y = j-1\n",
    "s = y+1\n",
    "\n",
    "P = itf.external_ps(m, s, V[x,y], V[x,y+1])\n",
    "# print('old V:\\n')\n",
    "# print_matrix(V)\n",
    "V = np.matmul(V,P)\n",
    "# print(\"NOTE: {}. column was affected!\".format(j+1))\n",
    "# print('new V:\\n')\n",
    "# print_matrix(V)\n",
    "\n",
    "print_data_ext_ps(V[x,y],V[x,y+1])\n",
    "print_matrix(V)"
   ]
  },
  {
   "cell_type": "markdown",
   "metadata": {},
   "source": [
    "### Finding internal phaseshifts\n",
    "$\\delta$ and $\\sum$"
   ]
  },
  {
   "cell_type": "code",
   "execution_count": 41,
   "metadata": {},
   "outputs": [
    {
     "name": "stdout",
     "output_type": "stream",
     "text": [
      "delta:\t-1.36+0.00j\t -> real: False\n",
      "angle:\t180.0°\n",
      "\n",
      "Block of M:\n",
      "\n",
      "[ 0.96+0.17j, -0.2 -0.04j]\n",
      "[-0.2 -0.04j, -0.96-0.17j]\n",
      "\n",
      "\n",
      "[1.+0.j, 0.+0.j, 0.+0.j, 0.+0.j]\n",
      "[0.+0.j, 1.+0.j, 0.+0.j, 0.+0.j]\n",
      "[ 0.  +0.j  ,  0.  +0.j  ,  0.96+0.17j, -0.2 -0.04j]\n",
      "[ 0.  +0.j  ,  0.  +0.j  , -0.2 -0.04j, -0.96-0.17j]\n",
      "\n",
      "\n",
      "0.6059549859176614 -2.5356376676721317\n"
     ]
    }
   ],
   "source": [
    "# looking at odd diagonal version!\n",
    "\n",
    "# minus sign !\n",
    "delta = itf.custom_arctan(V[x,y+1], V[x,y])\n",
    "\n",
    "print(\"delta:\\t{:.2f}\\t -> real: {}\\nangle:\\t{}°\".format(\n",
    "    delta, not np.iscomplex(delta), np.angle(delta,True)))\n",
    "\n",
    "# if k == j: summ = 0\n",
    "summ = np.angle(V[x-1,y-1]) - np.angle(V[x-1,y]*np.sin(delta) + V[x-1,y+1]*np.cos(delta)) + np.pi/2\n",
    "\n",
    "# might need to change into 'k' dependence\n",
    "modes = [y, y+1]    # initial mode-pairs    NOTE: need to update it to x,y dependence\n",
    "M = np.eye(m, dtype=np.complex_)\n",
    "M[modes[0],modes[0]] =  np.sin(delta) * np.exp(1j*summ) * np.exp(1j*np.pi/2)\n",
    "M[modes[1],modes[0]] =  np.cos(delta) * np.exp(1j*summ) * np.exp(1j*np.pi/2)\n",
    "M[modes[0],modes[1]] =  np.cos(delta) * np.exp(1j*summ) * np.exp(1j*np.pi/2)\n",
    "M[modes[1],modes[1]] = -np.sin(delta) * np.exp(1j*summ) * np.exp(1j*np.pi/2)\n",
    "\n",
    "print('\\nBlock of M:\\n')\n",
    "print_matrix(M[y:y+2,y:y+2])\n",
    "print_matrix(M)\n",
    "\n",
    "# print('old V:\\n')\n",
    "# print_matrix(V)\n",
    "V = np.matmul(V,M)\n",
    "# print(\"NOTE: {}. and {}. column were affected!\".format(j,j+1))\n",
    "# print('new V:\\n')\n",
    "print(np.angle(V[2][1]),np.angle(V[2][2]))"
   ]
  },
  {
   "cell_type": "code",
   "execution_count": 42,
   "metadata": {},
   "outputs": [
    {
     "name": "stdout",
     "output_type": "stream",
     "text": [
      "Nulled element:\tRe(-0.00) Im(-0.00)\n",
      "abs: 0.00, angle: -156.86°\n",
      "\n"
     ]
    }
   ],
   "source": [
    "print(\"Nulled element:\\tRe({:.2f}) Im({:.2f})\".format(V[x,y].real, V[x,y].imag))\n",
    "print(\"abs: {:.2f}, angle: {:.2f}°\\n\".format(np.abs(V[x,y]), np.angle(V[x,y],True)))\n",
    "# print('Elements affected by e^(i*summ)')\n",
    "# print_data_ext_ps(V[x-1,y], V[x-1,y+1])"
   ]
  },
  {
   "cell_type": "code",
   "execution_count": 43,
   "metadata": {},
   "outputs": [
    {
     "name": "stdout",
     "output_type": "stream",
     "text": [
      "delta:\t0.61+0.00j\t -> real: True\n",
      "angle:\t0.0°\n",
      "\n",
      "Block of M:\n",
      "\n",
      "[-0.49+0.29j, -0.71+0.41j]\n",
      "[-0.71+0.41j,  0.49-0.29j]\n",
      "\n",
      "\n",
      "[ 5.26e-01+1.97e-02j,  8.50e-01+3.18e-02j, -7.95e-17-2.38e-17j,\n",
      " -9.24e-17+5.83e-17j]\n",
      "[ 7.95e-01-3.02e-01j, -4.92e-01+1.87e-01j, -1.32e-16-3.67e-17j,\n",
      "  6.32e-17-2.22e-16j]\n",
      "[ 1.74e-17-2.75e-17j, -1.04e-17+7.78e-18j, -9.97e-01-8.01e-02j,\n",
      "  3.63e-16+2.15e-17j]\n",
      "[ 1.80e-17+8.81e-18j,  8.54e-18+3.45e-18j, -6.00e-17+1.38e-17j,\n",
      " -9.20e-01-3.93e-01j]\n",
      "\n",
      "\n",
      "-0.36370084462751345 2.7778918089622797\n"
     ]
    }
   ],
   "source": [
    "x -= 1\n",
    "y -= 1\n",
    "\n",
    "delta = itf.custom_arctan(V[x,y+1], V[x,y])\n",
    "\n",
    "print(\"delta:\\t{:.2f}\\t -> real: {}\\nangle:\\t{}°\".format(\n",
    "    delta, not np.iscomplex(delta), np.angle(delta,True)))\n",
    "\n",
    "# if k == j: summ = 0\n",
    "summ = np.angle(V[x-1,y-1]) - np.angle(V[x-1,y]*np.sin(delta) + V[x-1,y+1]*np.cos(delta)) + np.pi/2\n",
    "\n",
    "# might need to change into 'k' dependence\n",
    "modes = [y, y+1]    # initial mode-pairs    NOTE: need to update it to x,y dependence\n",
    "M = np.eye(m, dtype=np.complex_)\n",
    "M[modes[0],modes[0]] =  np.sin(delta) * np.exp(1j*summ) * np.exp(1j*np.pi/2)\n",
    "M[modes[1],modes[0]] =  np.cos(delta) * np.exp(1j*summ) * np.exp(1j*np.pi/2)\n",
    "M[modes[0],modes[1]] =  np.cos(delta) * np.exp(1j*summ) * np.exp(1j*np.pi/2)\n",
    "M[modes[1],modes[1]] = -np.sin(delta) * np.exp(1j*summ) * np.exp(1j*np.pi/2)\n",
    "\n",
    "print('\\nBlock of M:\\n')\n",
    "print_matrix(M[y:y+2,y:y+2])\n",
    "\n",
    "\n",
    "# print('old V:\\n')\n",
    "# print_matrix(V)\n",
    "V = np.matmul(V,M)\n",
    "# print(\"NOTE: {}. and {}. column were affected!\".format(j,j+1))\n",
    "# print('new V:\\n')\n",
    "print_matrix(V)\n",
    "print(np.angle(V[1][0]),np.angle(V[1][1]))"
   ]
  },
  {
   "cell_type": "code",
   "execution_count": 44,
   "metadata": {},
   "outputs": [
    {
     "name": "stdout",
     "output_type": "stream",
     "text": [
      "Nulled element:\tRe(-0.00) Im(0.00)\n",
      "abs: 0.00, angle: 143.08°\n",
      "\n"
     ]
    }
   ],
   "source": [
    "print(\"Nulled element:\\tRe({:.2f}) Im({:.2f})\".format(V[x,y].real, V[x,y].imag))\n",
    "print(\"abs: {:.2f}, angle: {:.2f}°\\n\".format(np.abs(V[x,y]), np.angle(V[x,y],True)))\n",
    "# print('Elements affected by e^(i*summ)')\n",
    "# print_data_ext_ps(V[x-1,y], V[x-1,y+1])"
   ]
  },
  {
   "cell_type": "code",
   "execution_count": 45,
   "metadata": {},
   "outputs": [
    {
     "name": "stdout",
     "output_type": "stream",
     "text": [
      "delta:\t0.55-0.00j\t -> real: False\n",
      "angle:\t-2.278933206924413e-15°\n",
      "\n",
      "Block of M:\n",
      "\n",
      "[5.10e-17+0.53j, 4.04e-17+0.85j]\n",
      "[ 4.04e-17+0.85j, -5.10e-17-0.53j]\n",
      "\n",
      "\n"
     ]
    }
   ],
   "source": [
    "x -= 1\n",
    "y -= 1\n",
    "\n",
    "delta = itf.custom_arctan(V[x,y+1], V[x,y])\n",
    "\n",
    "print(\"delta:\\t{:.2f}\\t -> real: {}\\nangle:\\t{}°\".format(\n",
    "    delta, not np.iscomplex(delta), np.angle(delta,True)))\n",
    "\n",
    "# if k == j: summ = 0\n",
    "#summ = np.angle(V[x-1,y-1]) - np.angle(V[x-1,y]*np.sin(delta) + V[x-1,y+1]*np.cos(delta))\n",
    "summ = 0\n",
    "\n",
    "# might need to change into 'k' dependence\n",
    "modes = [y, y+1]    # initial mode-pairs    NOTE: need to update it to x,y dependence\n",
    "M = np.eye(m, dtype=np.complex_)\n",
    "M[modes[0],modes[0]] =  np.sin(delta) * np.exp(1j*summ) * np.exp(1j*np.pi/2)\n",
    "M[modes[1],modes[0]] =  np.cos(delta) * np.exp(1j*summ) * np.exp(1j*np.pi/2)\n",
    "M[modes[0],modes[1]] =  np.cos(delta) * np.exp(1j*summ) * np.exp(1j*np.pi/2)\n",
    "M[modes[1],modes[1]] = -np.sin(delta) * np.exp(1j*summ) * np.exp(1j*np.pi/2)\n",
    "\n",
    "print('\\nBlock of M:\\n')\n",
    "print_matrix(M[y:y+2,y:y+2])\n",
    "\n",
    "\n",
    "# print('old V:\\n')\n",
    "# print_matrix(V)\n",
    "V = np.matmul(V,M)\n",
    "# print(\"NOTE: {}. and {}. column were affected!\".format(j,j+1))\n",
    "# print('new V:\\n')\n",
    "# print_matrix(V)"
   ]
  },
  {
   "cell_type": "code",
   "execution_count": 46,
   "metadata": {},
   "outputs": [
    {
     "name": "stdout",
     "output_type": "stream",
     "text": [
      "1 0\n"
     ]
    },
    {
     "data": {
      "text/plain": [
       "array([[-0.037+0.999j, -0.   -0.j   , -0.   -0.j   , -0.   +0.j   ],\n",
       "       [ 0.   +0.j   ,  0.356+0.935j, -0.   -0.j   ,  0.   -0.j   ],\n",
       "       [ 0.   +0.j   ,  0.   +0.j   , -0.997-0.08j ,  0.   +0.j   ],\n",
       "       [-0.   +0.j   , -0.   +0.j   , -0.   +0.j   , -0.92 -0.393j]])"
      ]
     },
     "execution_count": 46,
     "metadata": {},
     "output_type": "execute_result"
    }
   ],
   "source": [
    "print(x,y)\n",
    "V.round(3)"
   ]
  },
  {
   "cell_type": "markdown",
   "metadata": {},
   "source": [
    "now we implement the other external phases which are shifted to the middle"
   ]
  },
  {
   "cell_type": "code",
   "execution_count": 47,
   "metadata": {},
   "outputs": [
    {
     "name": "stdout",
     "output_type": "stream",
     "text": [
      "[-0.04+1.j,  0.  -0.j, -0.  +0.j,  0.  +0.j]\n",
      "[ 0.  +0.j, -0.04+1.j, -0.  +0.j, -0.  +0.j]\n",
      "[ 0.  +0.j,  0.  +0.j, -0.04+1.j, -0.  -0.j]\n",
      "[-0.  +0.j, -0.  +0.j,  0.  +0.j, -0.04+1.j]\n",
      "\n",
      "\n"
     ]
    }
   ],
   "source": [
    "m = 4\n",
    "for j in range(2,m+1):\n",
    "   # xi = np.angle(V[0][0])-np.angle(V[j-1][j-1])\n",
    "    V = np.dot(V,itf.external_ps(m, j-1, V[0,0], V[j-1,j-1]))\n",
    "print_matrix(V.round(10))"
   ]
  },
  {
   "cell_type": "markdown",
   "metadata": {},
   "source": [
    "# Test of module\n",
    "## <center>TODO</center>\n",
    "* check if $V$ is a diagonal matrix after the decomposition $\\rightarrow$ done\n",
    "---\n",
    "- extend module to save found phases: $\\phi$, $\\delta$, $\\sum$ $\\Rightarrow$ $\\theta_1$ & $\\theta_2$ $\\rightarrow$ done, but maybe needs to be adapted\n",
    "- check the function in module that recreates the initial unitary matrix based on the decomposed matrices (probably needs work)\n",
    "- update the drawing function in the module such that it follows the updated **Clement's** `draw()` function but with sMZI:s\n",
    "- Finally: sweep through the whole module and finalise *comments*, *documentation*, *variables* and implement possible *optimalisations*\n",
    "---\n",
    "* optional: `import numba` for faster execution; optimized machine code at runtime"
   ]
  },
  {
   "cell_type": "code",
   "execution_count": 1,
   "metadata": {},
   "outputs": [],
   "source": [
    "# including imports again in case someone only wishes\n",
    "# to run this part of the notebook\n",
    "import numpy as np\n",
    "import os\n",
    "\n",
    "if os.getcwd()[-9:]==\"notebooks\":\n",
    "    os.chdir(\"..\")\n",
    "\n",
    "import sMZI as itf\n",
    "\n",
    "def print_matrix(M: np.ndarray, prec: int=2):\n",
    "    \"\"\"\n",
    "    Function to print a given matrix in a nice way.\n",
    "    \n",
    "    Parameters\n",
    "    ------\n",
    "    M : matrix to print\n",
    "    prec : floating point precision\n",
    "    \"\"\"\n",
    "    for row in M:\n",
    "        print(f\"{np.array2string(row, precision=prec ,formatter={'float': lambda row: f'{row:.2f}'},separator=', ', suppress_small=True)}\")\n",
    "    print('\\n')\n",
    "\n",
    "def check_symmetric(a, rtol=1e-05, atol=1e-08):\n",
    "    return np.allclose(a, a.T, rtol=rtol, atol=atol)\n",
    "\n",
    "\n",
    "U = itf.random_unitary(5)\n",
    "I = itf.square_decomposition(U)\n",
    "\n",
    "# I.draw()"
   ]
  },
  {
   "cell_type": "code",
   "execution_count": 2,
   "metadata": {},
   "outputs": [
    {
     "name": "stdout",
     "output_type": "stream",
     "text": [
      "number of output phases: 2\n",
      "number of input phases: 2\n",
      "\n",
      "The matrix encrypting the circuit after Bell's PS shifting:\n",
      "\n",
      "[ 0.34+0.j, -3.05+0.j,  0.57-0.j, -2.68+0.j,  0.54+0.j]\n",
      "[ 2.61-0.j, -4.04-0.j,  1.64+0.j, -1.74-0.j, -1.75+0.j]\n",
      "[ 3.09-0.j, -3.49+0.j,  1.47-0.j, -3.07+0.j, -3.88-0.j]\n",
      "[ 4.53+0.j, -3.69+0.j, -0.23+0.j, -0.85-0.j, -4.38+0.j]\n",
      "[-0.31+0.j, -5.66+0.j,  3.11+0.j, -2.29+0.j,  0.  +0.j]\n",
      "\n",
      "\n"
     ]
    }
   ],
   "source": [
    "print(\"number of output phases: {}\\nnumber of input phases: {}\".format(np.nonzero(I.output_phases)[0].size,np.nonzero(I.input_phases)[0].size))\n",
    "print(\"\\nThe matrix encrypting the circuit after Bell's PS shifting:\\n\")\n",
    "print_matrix(I.circuit)"
   ]
  },
  {
   "cell_type": "markdown",
   "metadata": {},
   "source": [
    "## ``Interferometer.draw()`` to be updated!"
   ]
  },
  {
   "cell_type": "code",
   "execution_count": null,
   "metadata": {},
   "outputs": [],
   "source": []
  }
 ],
 "metadata": {
  "kernelspec": {
   "display_name": "base",
   "language": "python",
   "name": "python3"
  },
  "language_info": {
   "codemirror_mode": {
    "name": "ipython",
    "version": 3
   },
   "file_extension": ".py",
   "mimetype": "text/x-python",
   "name": "python",
   "nbconvert_exporter": "python",
   "pygments_lexer": "ipython3",
   "version": "3.11.9"
  }
 },
 "nbformat": 4,
 "nbformat_minor": 2
}
