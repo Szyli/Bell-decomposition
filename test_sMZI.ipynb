{
 "cells": [
  {
   "cell_type": "code",
   "execution_count": 23,
   "metadata": {},
   "outputs": [],
   "source": [
    "import numpy as np\n",
    "import os\n",
    "\n",
    "if os.getcwd()[-9:]==\"notebooks\":\n",
    "    os.chdir(\"..\")\n",
    "\n",
    "import sMZI as itf"
   ]
  },
  {
   "cell_type": "code",
   "execution_count": 24,
   "metadata": {},
   "outputs": [],
   "source": [
    "def print_matrix(M: np.ndarray):\n",
    "    \"\"\"\n",
    "    Function to print a given matrix in a nice way.\n",
    "    \n",
    "    Parameters\n",
    "    ------\n",
    "    M : matrix to print\n",
    "    \"\"\"\n",
    "    for row in M:\n",
    "        print(f\"{np.array2string(row, precision=2 ,formatter={'float': lambda row: f'{row:.2f}'},separator=', ')}\")\n",
    "    print('\\n')\n",
    "\n",
    "def print_data_ext_ps(V1: np.complex_, V2: np.complex_):\n",
    "    \"\"\"\n",
    "    Function to print data on the effect of the external phaseshift\n",
    "    that's used to match the phases of two given elements.\n",
    "    \n",
    "    Parameters\n",
    "    ------\n",
    "    V1 : element of the auxillary matrix `V`\n",
    "    V2 : subsequent element of **V1**\n",
    "    \n",
    "    ---\n",
    "    \n",
    "    Further description:\n",
    "    ---\n",
    "    When it comes to the effect of the external phaseshift  `P`:\n",
    "    \n",
    "    - for **even** diagonals ( j=2,4... ):\n",
    "    >> ``V1 = V[x,y]`` ,  ``V2 = V[x-1,y]``\n",
    "    \n",
    "    - for **odd** diagonals ( j=1,3... ):\n",
    "    >> ``V1 = V[x,y]`` ,  ``V2 = V[x,y+1]``\n",
    "    \n",
    "    ---\n",
    "    When it comes to the effect of `exp(i*summa)` in `M`:\n",
    "    \n",
    "    - for **even** diagonals ( j=2,4... ):\n",
    "    >> ``V1 = V[x-1,y-1]`` ,  ``V2 = V[x-1,y]``\n",
    "    \n",
    "    - for **odd** diagonals ( j=1,3... ):\n",
    "    >> ``V1 = V[x+1,y+1]`` ,  ``V2 = V[x,y+1]``\n",
    "    \n",
    "    \"\"\"\n",
    "    \n",
    "    eq_stat = (np.angle(V1) == np.angle(V2))\n",
    "    eq_str = \"\\nThey are matching!\"\n",
    "    neq_str = \"\\nThey are NOT matching!\\n\"\n",
    "\n",
    "    print('Affected elements:\\t',\n",
    "        \"{:.2f}, {:.2f}\".format(V1, V2))\n",
    "    print('Corresponding angles:\\t',\n",
    "        \"{:.2f}, {:.2f}\".format(np.angle(V1), np.angle(V2)))\n",
    "\n",
    "    if eq_stat:\n",
    "        print(eq_str)\n",
    "    else:\n",
    "        print(neq_str)\n",
    "        print('Full length of angles:\\n',\n",
    "            \"{}, {}\".format(np.angle(V1), np.angle(V2)))\n",
    "        print('\\nTheir difference:\\t',\n",
    "            \"{}\".format(np.angle(V1) - np.angle(V2)))"
   ]
  },
  {
   "cell_type": "code",
   "execution_count": 25,
   "metadata": {},
   "outputs": [],
   "source": [
    "U = itf.random_unitary(5)"
   ]
  },
  {
   "cell_type": "markdown",
   "metadata": {},
   "source": [
    "# Odd diagonals"
   ]
  },
  {
   "cell_type": "markdown",
   "metadata": {},
   "source": [
    "### Finding external phaseshifts\n",
    "They match the given elements' phases"
   ]
  },
  {
   "cell_type": "code",
   "execution_count": 26,
   "metadata": {},
   "outputs": [
    {
     "name": "stdout",
     "output_type": "stream",
     "text": [
      "Affected elements:\t 0.11-0.30j, 0.12-0.33j\n",
      "Corresponding angles:\t -1.22, -1.22\n",
      "\n",
      "They are matching!\n"
     ]
    }
   ],
   "source": [
    "V = np.conjugate(U.T)\n",
    "# odd diags: 1,3,5...\n",
    "m = U.shape[0]\n",
    "j = 1\n",
    "\n",
    "x = m-1\n",
    "y = j-1\n",
    "\n",
    "P = itf.external_ps(m, j, V[x,y], V[x,y+1])\n",
    "# print('old V:\\n')\n",
    "# print_matrix(V)\n",
    "V = np.matmul(V,P)\n",
    "# print(\"NOTE: {}. column was affected!\".format(j+1))\n",
    "# print('new V:\\n')\n",
    "# print_matrix(V)\n",
    "\n",
    "print_data_ext_ps(V[x,y],V[x,y+1])"
   ]
  },
  {
   "cell_type": "markdown",
   "metadata": {},
   "source": [
    "## Finding internal phaseshifts\n",
    "$\\delta$ and $\\sum$"
   ]
  },
  {
   "cell_type": "code",
   "execution_count": 27,
   "metadata": {},
   "outputs": [
    {
     "name": "stdout",
     "output_type": "stream",
     "text": [
      "delta:\t-0.82-0.00j\t -> real: False\n",
      "angle:\t-180.0°\n",
      "\n",
      "Block of M:\n",
      "\n",
      "[-0.73-1.28e-17j,  0.68-1.38e-17j]\n",
      "[0.68-1.38e-17j, 0.73+1.28e-17j]\n",
      "\n",
      "\n"
     ]
    }
   ],
   "source": [
    "# looking at odd diagonal version!\n",
    "\n",
    "# minus sign !\n",
    "delta = itf.custom_arctan(V[x,y+1], V[x,y])\n",
    "\n",
    "print(\"delta:\\t{:.2f}\\t -> real: {}\\nangle:\\t{}°\".format(\n",
    "    delta, not np.iscomplex(delta), np.angle(delta,True)))\n",
    "\n",
    "# if k == j: summ = 0\n",
    "summ = 0\n",
    "\n",
    "# might need to change into 'k' dependence\n",
    "modes = [y, y+1]    # initial mode-pairs    NOTE: need to update it to x,y dependence\n",
    "M = np.eye(m, dtype=np.complex_)\n",
    "M[modes[0],modes[0]] =  np.sin(delta) * np.exp(1j*summ)\n",
    "M[modes[1],modes[0]] =  np.cos(delta) * np.exp(1j*summ)\n",
    "M[modes[0],modes[1]] =  np.cos(delta) * np.exp(1j*summ)\n",
    "M[modes[1],modes[1]] = -np.sin(delta) * np.exp(1j*summ)\n",
    "\n",
    "print('\\nBlock of M:\\n')\n",
    "print_matrix(M[y:y+2,y:y+2])\n",
    "\n",
    "\n",
    "# print('old V:\\n')\n",
    "# print_matrix(V)\n",
    "V = np.matmul(V,M)\n",
    "# print(\"NOTE: {}. and {}. column were affected!\".format(j,j+1))\n",
    "# print('new V:\\n')\n",
    "# print_matrix(V)"
   ]
  },
  {
   "cell_type": "code",
   "execution_count": 28,
   "metadata": {},
   "outputs": [
    {
     "name": "stdout",
     "output_type": "stream",
     "text": [
      "Nulled element:\tRe(0.00) Im(-0.00)\n",
      "abs: 0.00, angle: -76.25°\n",
      "\n"
     ]
    }
   ],
   "source": [
    "print(\"Nulled element:\\tRe({:.2f}) Im({:.2f})\".format(V[x,y].real, V[x,y].imag))\n",
    "print(\"abs: {:.2f}, angle: {:.2f}°\\n\".format(np.abs(V[x,y]), np.angle(V[x,y],True)))\n",
    "# print('Elements affected by e^(i*summ)')\n",
    "# print_data_ext_ps(V[x-1,y], V[x-1,y+1])"
   ]
  },
  {
   "cell_type": "markdown",
   "metadata": {},
   "source": [
    "## Even diagonals"
   ]
  },
  {
   "cell_type": "markdown",
   "metadata": {},
   "source": [
    "### Finding external phaseshifts\n",
    "They match the given elements' phases"
   ]
  },
  {
   "cell_type": "code",
   "execution_count": 29,
   "metadata": {},
   "outputs": [
    {
     "name": "stdout",
     "output_type": "stream",
     "text": [
      "Affected elements:\t -0.12+0.51j, -0.06+0.26j\n",
      "Corresponding angles:\t 1.80, 1.80\n",
      "\n",
      "They are NOT matching!\n",
      "\n",
      "Full length of angles:\n",
      " 1.7964390042096705, 1.796439004209671\n",
      "\n",
      "Their difference:\t -4.440892098500626e-16\n"
     ]
    }
   ],
   "source": [
    "# V = np.conjugate(U.T)\n",
    "# even diags: 2,4,6...\n",
    "m = U.shape[0]\n",
    "j = 2\n",
    "\n",
    "x = m-j\n",
    "y = 0\n",
    "\n",
    "P = itf.external_ps(m, j, V[x,y], V[x-1,y])\n",
    "# print('old V:\\n')\n",
    "# print_matrix(V)\n",
    "V = np.matmul(P,V)\n",
    "# print(\"NOTE: {}. row was affected!\".format(j+1))\n",
    "# print('new V:\\n')\n",
    "# print_matrix(V)\n",
    "\n",
    "print_data_ext_ps(V[x,y],V[x-1,y])"
   ]
  },
  {
   "cell_type": "markdown",
   "metadata": {},
   "source": [
    "## Finding internal phaseshifts\n",
    "$\\delta$ and $\\sum$"
   ]
  },
  {
   "cell_type": "code",
   "execution_count": 30,
   "metadata": {},
   "outputs": [
    {
     "name": "stdout",
     "output_type": "stream",
     "text": [
      "delta:\t0.48+0.00j\t -> real: False\n",
      "angle:\t2.0742295333050472e-14°\n"
     ]
    }
   ],
   "source": [
    "# looking at odd diagonal version!\n",
    "\n",
    "# minus sign !\n",
    "delta = itf.custom_arctan(-V[x-1,y], V[x,y])\n",
    "\n",
    "print(\"delta:\\t{:.2f}\\t -> real: {}\\nangle:\\t{}°\".format(\n",
    "    delta, not np.iscomplex(delta), np.angle(delta,True)))\n",
    "\n",
    "summ = np.angle(V[x+1,y+1]) - np.angle(V[x-1,y+1]*np.cos(delta) - V[x,y+1]*np.sin(delta))\n",
    "\n",
    "# print('\\nangles to get equal by summa:\\n',\n",
    "#       np.angle(V[x+1,y+1]),\n",
    "#       np.angle(V[x,y+1]*np.cos(delta) - V[x+1,y+1]*np.sin(delta)),'\\n',\n",
    "#       'summa:',summ)\n",
    "\n",
    "# summ = 0\n",
    "\n",
    "# might need to change into 'k' dependence\n",
    "modes = [x-1, x]    # initial mode-pairs    NOTE: need to update it to x,y dependence\n",
    "M = np.eye(m, dtype=np.complex_)\n",
    "M[modes[0],modes[0]] =  np.sin(delta) * np.exp(1j*summ)\n",
    "M[modes[1],modes[0]] =  np.cos(delta) * np.exp(1j*summ)\n",
    "M[modes[0],modes[1]] =  np.cos(delta) * np.exp(1j*summ)\n",
    "M[modes[1],modes[1]] = -np.sin(delta) * np.exp(1j*summ)\n",
    "\n",
    "# print('\\nBlock of M:\\n')\n",
    "# print_matrix(M[x-1:x+1,x-1:x+1])\n",
    "# # print_matrix(M)\n",
    "\n",
    "\n",
    "# print('old V:\\n')\n",
    "# print_matrix(V)\n",
    "V = np.matmul(M,V)\n",
    "# print(\"NOTE: {}. and {}. rows were affected!\".format(j,j+1))\n",
    "# print('new V:\\n')\n",
    "# print_matrix(V)"
   ]
  },
  {
   "cell_type": "code",
   "execution_count": 31,
   "metadata": {},
   "outputs": [
    {
     "name": "stdout",
     "output_type": "stream",
     "text": [
      "Nulled element:\tRe(-0.00) Im(-0.00)\n",
      "abs: 0.00, angle: -167.26°\n",
      "\n",
      "Elements affected by e^(i*summ):\n",
      "\n",
      "Affected elements:\t 0.16-0.44j, 0.24-0.65j\n",
      "Corresponding angles:\t -1.22, -1.22\n",
      "\n",
      "They are NOT matching!\n",
      "\n",
      "Full length of angles:\n",
      " -1.2238644580782663, -1.2238644580782665\n",
      "\n",
      "Their difference:\t 2.220446049250313e-16\n"
     ]
    }
   ],
   "source": [
    "print(\"Nulled element:\\tRe({:.2f}) Im({:.2f})\".format(V[x,y].real, V[x,y].imag))\n",
    "print(\"abs: {:.2f}, angle: {:.2f}°\\n\".format(np.abs(V[x,y]), np.angle(V[x,y],True)))\n",
    "print('Elements affected by e^(i*summ):\\n')\n",
    "print_data_ext_ps(V[x+1,y+1], V[x,y+1])"
   ]
  },
  {
   "cell_type": "markdown",
   "metadata": {},
   "source": [
    "### Continuation on the chosen diagonal\n",
    "Without correct $\\sum$ it's wrong"
   ]
  },
  {
   "cell_type": "code",
   "execution_count": 32,
   "metadata": {},
   "outputs": [
    {
     "name": "stdout",
     "output_type": "stream",
     "text": [
      "delta:\t0.97-0.00j\t -> real: False\n",
      "angle:\t-4.147034211566518e-15°\n"
     ]
    }
   ],
   "source": [
    "x += 1\n",
    "y += 1\n",
    "\n",
    "delta = itf.custom_arctan(-V[x-1,y], V[x,y])\n",
    "print(\"delta:\\t{:.2f}\\t -> real: {}\\nangle:\\t{}°\".format(\n",
    "    delta, not np.iscomplex(delta), np.angle(delta,True)))\n",
    "\n",
    "summ = 0\n",
    "\n",
    "modes = [x-1, x]     # initial mode-pairs\n",
    "M = np.eye(m, dtype=np.complex_)\n",
    "M[modes[0],modes[0]] =  np.sin(delta) * np.exp(1j*summ)\n",
    "M[modes[1],modes[0]] =  np.cos(delta) * np.exp(1j*summ)\n",
    "M[modes[0],modes[1]] =  np.cos(delta) * np.exp(1j*summ)\n",
    "M[modes[1],modes[1]] = -np.sin(delta) * np.exp(1j*summ)\n",
    "V = np.matmul(M,V)\n",
    "\n",
    "# print('\\nBlock of M:\\n')\n",
    "# print_matrix(M[x-1:x+1,x-1:x+1])\n",
    "\n",
    "# print('old V:\\n')\n",
    "# print_matrix(V)\n",
    "V = np.matmul(M,V)\n",
    "# print(\"NOTE: {}. and {}. rows were affected!\".format(x,x+1))\n",
    "# print('new V:\\n')\n",
    "# print_matrix(V)"
   ]
  },
  {
   "cell_type": "code",
   "execution_count": 33,
   "metadata": {},
   "outputs": [
    {
     "name": "stdout",
     "output_type": "stream",
     "text": [
      "Nulled element:\tRe(0.16) Im(-0.44)\n",
      "abs: 0.47, angle: -70.12°\n",
      "\n"
     ]
    }
   ],
   "source": [
    "print(\"Nulled element:\\tRe({:.2f}) Im({:.2f})\".format(V[x,y].real, V[x,y].imag))\n",
    "print(\"abs: {:.2f}, angle: {:.2f}°\\n\".format(np.abs(V[x,y]), np.angle(V[x,y],True)))\n",
    "# print('Elements affected by e^(i*summ)')\n",
    "# print_data_ext_ps(V[x-1,y], V[x-1,y+1])"
   ]
  },
  {
   "cell_type": "code",
   "execution_count": null,
   "metadata": {},
   "outputs": [],
   "source": []
  }
 ],
 "metadata": {
  "kernelspec": {
   "display_name": "base",
   "language": "python",
   "name": "python3"
  },
  "language_info": {
   "codemirror_mode": {
    "name": "ipython",
    "version": 3
   },
   "file_extension": ".py",
   "mimetype": "text/x-python",
   "name": "python",
   "nbconvert_exporter": "python",
   "pygments_lexer": "ipython3",
   "version": "3.11.9"
  }
 },
 "nbformat": 4,
 "nbformat_minor": 2
}
