{
 "cells": [
  {
   "cell_type": "code",
   "execution_count": 1,
   "metadata": {},
   "outputs": [],
   "source": [
    "import numpy as np\n",
    "import os\n",
    "\n",
    "if os.getcwd()[-9:]==\"notebooks\":\n",
    "    os.chdir(\"..\")\n",
    "\n",
    "import sMZI as itf"
   ]
  },
  {
   "cell_type": "code",
   "execution_count": 2,
   "metadata": {},
   "outputs": [],
   "source": [
    "def print_matrix(M: np.ndarray):\n",
    "    \"\"\"\n",
    "    Function to print a given matrix in a nice way.\n",
    "    \n",
    "    Parameters\n",
    "    ------\n",
    "    M : matrix to print\n",
    "    \"\"\"\n",
    "    for row in M:\n",
    "        print(f\"{np.array2string(row, precision=2 ,formatter={'float': lambda x: f'{x:.2f}'},separator=', ')}\")\n",
    "    print('\\n')\n",
    "\n",
    "def print_data_ext_ps(V1: np.complex_, V2: np.complex_):\n",
    "    \"\"\"\n",
    "    Function to print data on the effect of the external phaseshift\n",
    "    that's used to match the phases of two given elements.\n",
    "    \n",
    "    Parameters\n",
    "    ------\n",
    "    V1 : element of the auxillary matrix `V`\n",
    "    V2 : subsequent element of **V1**\n",
    "    \n",
    "    ---\n",
    "    \n",
    "    Further description:\n",
    "    \n",
    "    - for **even** diagonals ( j=2,4... ):\n",
    "    >> ``V1 = V[x,y]`` ,  ``V2 = V[x-1,y]``\n",
    "    \n",
    "    - for **odd** diagonals ( j=1,3... ):\n",
    "    >> ``V1 = V[x,y]`` ,  ``V2 = V[x,y+1]``\n",
    "    \"\"\"\n",
    "    \n",
    "    eq_stat = (np.angle(V1) == np.angle(V2))\n",
    "    eq_str = \"\\nThey are matching!\"\n",
    "    neq_str = \"\\nThey are NOT matching!\\n\"\n",
    "\n",
    "    print('Affected elements:\\t',\n",
    "        \"{:.2f}, {:.2f}\".format(V1, V2))\n",
    "    print('Corresponding angles:\\t',\n",
    "        \"{:.2f}, {:.2f}\".format(np.angle(V1), np.angle(V2)))\n",
    "\n",
    "    if eq_stat:\n",
    "        print(eq_str)\n",
    "    else:\n",
    "        print(neq_str)\n",
    "        print('Full length of angles:\\n',\n",
    "            \"{}, {}\".format(np.angle(V1), np.angle(V2)))\n",
    "        print('\\nTheir difference:\\t',\n",
    "            \"{}\".format(np.angle(V1) - np.angle(V2)))"
   ]
  },
  {
   "cell_type": "code",
   "execution_count": 3,
   "metadata": {},
   "outputs": [],
   "source": [
    "U = itf.random_unitary(5)"
   ]
  },
  {
   "cell_type": "markdown",
   "metadata": {},
   "source": [
    "# Odd diagonals"
   ]
  },
  {
   "cell_type": "markdown",
   "metadata": {},
   "source": [
    "### Finding external phaseshifts\n",
    "They match the given elements' phases"
   ]
  },
  {
   "cell_type": "code",
   "execution_count": 4,
   "metadata": {},
   "outputs": [
    {
     "name": "stdout",
     "output_type": "stream",
     "text": [
      "old V:\n",
      "\n",
      "[ 0.47-0.26j,  0.49+0.j  ,  0.3 -0.15j,  0.  -0.51j, -0.31+0.07j]\n",
      "[-0.06+0.49j,  0.31+0.23j, -0.26-0.31j, -0.03-0.23j,  0.37+0.5j ]\n",
      "[ 0.13+0.08j, -0.03+0.39j, -0.37-0.46j, -0.42+0.15j, -0.37-0.39j]\n",
      "[-0.39-0.24j, -0.01+0.2j , -0.45+0.32j,  0.05-0.63j, -0.01-0.21j]\n",
      "[ 0.48-0.04j, -0.63+0.17j, -0.11+0.24j, -0.24-0.19j, -0.05+0.43j]\n",
      "\n",
      "\n",
      "NOTE: 2. column was affected!\n",
      "new V:\n",
      "\n",
      "[ 0.47-0.26j, -0.48-0.1j ,  0.3 -0.15j,  0.  -0.51j, -0.31+0.07j]\n",
      "[-0.06+0.49j, -0.26-0.29j, -0.26-0.31j, -0.03-0.23j,  0.37+0.5j ]\n",
      "[ 0.13+0.08j,  0.1 -0.38j, -0.37-0.46j, -0.42+0.15j, -0.37-0.39j]\n",
      "[-0.39-0.24j,  0.05-0.19j, -0.45+0.32j,  0.05-0.63j, -0.01-0.21j]\n",
      "[ 0.48-0.04j,  0.65-0.05j, -0.11+0.24j, -0.24-0.19j, -0.05+0.43j]\n",
      "\n",
      "\n",
      "Affected elements:\t 0.48-0.04j, 0.65-0.05j\n",
      "Corresponding angles:\t -0.07, -0.07\n",
      "\n",
      "They are NOT matching!\n",
      "\n",
      "Full length of angles:\n",
      " -0.07481848347792765, -0.07481848347792763\n",
      "\n",
      "Their difference:\t -1.3877787807814457e-17\n"
     ]
    }
   ],
   "source": [
    "V = np.conjugate(U.T)\n",
    "# odd diags: 1,3,5...\n",
    "m = U.shape[0]\n",
    "j = 1\n",
    "\n",
    "x = m-1\n",
    "y = j-1\n",
    "\n",
    "P = itf.external_ps(m, j, V[x,y], V[x,y+1])\n",
    "print('old V:\\n')\n",
    "print_matrix(V)\n",
    "V = np.matmul(V,P)\n",
    "print(\"NOTE: {}. column was affected!\".format(j+1))\n",
    "print('new V:\\n')\n",
    "print_matrix(V)\n",
    "\n",
    "print_data_ext_ps(V[x,y],V[x,y+1])"
   ]
  },
  {
   "cell_type": "code",
   "execution_count": 5,
   "metadata": {},
   "outputs": [
    {
     "name": "stdout",
     "output_type": "stream",
     "text": [
      "Affected elements:\t -0.39-0.24j, 0.05-0.19j\n",
      "Corresponding angles:\t -2.60, -1.34\n",
      "\n",
      "They are NOT matching!\n",
      "\n",
      "Full length of angles:\n",
      " -2.5990761244296943, -1.3379966262556047\n",
      "\n",
      "Their difference:\t -1.2610794981740896\n"
     ]
    }
   ],
   "source": [
    "# these are the elements which angles need to be matched by summa (?)\n",
    "print_data_ext_ps(V[x-1,y],V[x-1,y+1])"
   ]
  },
  {
   "cell_type": "markdown",
   "metadata": {},
   "source": [
    "## Finding internal phaseshifts\n",
    "$\\delta$ and $\\sum$"
   ]
  },
  {
   "cell_type": "code",
   "execution_count": 6,
   "metadata": {},
   "outputs": [
    {
     "name": "stdout",
     "output_type": "stream",
     "text": [
      "delta:\t-0.64+0.00j\t -> real: False\n",
      "angle:\t180.0°\n",
      "\n",
      "Block of M2:\n",
      "\n",
      "[-0.59+5.52e-18j,  0.8 +4.09e-18j]\n",
      "[0.8 +4.09e-18j, 0.59-5.52e-18j]\n",
      "\n",
      "\n",
      "old V:\n",
      "\n",
      "[ 0.47-0.26j, -0.48-0.1j ,  0.3 -0.15j,  0.  -0.51j, -0.31+0.07j]\n",
      "[-0.06+0.49j, -0.26-0.29j, -0.26-0.31j, -0.03-0.23j,  0.37+0.5j ]\n",
      "[ 0.13+0.08j,  0.1 -0.38j, -0.37-0.46j, -0.42+0.15j, -0.37-0.39j]\n",
      "[-0.39-0.24j,  0.05-0.19j, -0.45+0.32j,  0.05-0.63j, -0.01-0.21j]\n",
      "[ 0.48-0.04j,  0.65-0.05j, -0.11+0.24j, -0.24-0.19j, -0.05+0.43j]\n",
      "\n",
      "\n",
      "NOTE: 1. and 2. column were affected!\n",
      "new V:\n",
      "\n",
      "[-6.62e-01+0.08j,  9.34e-02-0.27j,  3.02e-01-0.15j,  6.04e-04-0.51j,\n",
      " -3.11e-01+0.07j]\n",
      "[-0.17-0.52j, -0.2 +0.22j, -0.26-0.31j, -0.03-0.23j,  0.37+0.5j ]\n",
      "[ 0.01-0.35j,  0.17-0.16j, -0.37-0.46j, -0.42+0.15j, -0.37-0.39j]\n",
      "[ 0.27-0.01j, -0.29-0.3j , -0.45+0.32j,  0.05-0.63j, -0.01-0.21j]\n",
      "[ 0.24-0.02j,  0.77-0.06j, -0.11+0.24j, -0.24-0.19j, -0.05+0.43j]\n",
      "\n",
      "\n"
     ]
    }
   ],
   "source": [
    "# looking at odd diagonal version!\n",
    "\n",
    "delta = itf.custom_arctan(V[x,y], V[x,y+1])\n",
    "\n",
    "print(\"delta:\\t{:.2f}\\t -> real: {}\\nangle:\\t{}°\".format(\n",
    "    delta, not np.iscomplex(delta), np.angle(delta,True)))\n",
    "\n",
    "\n",
    "# summ = (np.angle(V[x-1,y]) + np.angle(V[x,y]))/2\n",
    "# summ = np.angle(V[x-1,y]) - np.angle(V[x-1,y+1])\n",
    "summ = 0\n",
    "\n",
    "# might need to change into 'k' dependence\n",
    "modes = [j-1, j]    # initial mode-pairs\n",
    "M = np.eye(m, dtype=np.complex_)\n",
    "M[modes[0],modes[0]] =  np.sin(delta) * np.exp(1j*summ)\n",
    "M[modes[1],modes[0]] =  np.cos(delta) * np.exp(1j*summ)\n",
    "M[modes[0],modes[1]] =  np.cos(delta) * np.exp(1j*summ)\n",
    "M[modes[1],modes[1]] = -np.sin(delta) * np.exp(1j*summ)\n",
    "\n",
    "print('\\nBlock of M2:\\n')\n",
    "print_matrix(M[j-1:j+1,j-1:j+1])\n",
    "\n",
    "\n",
    "print('old V:\\n')\n",
    "print_matrix(V)\n",
    "V = np.matmul(V,M)\n",
    "print(\"NOTE: {}. and {}. column were affected!\".format(j,j+1))\n",
    "print('new V:\\n')\n",
    "print_matrix(V)"
   ]
  },
  {
   "cell_type": "code",
   "execution_count": 7,
   "metadata": {},
   "outputs": [
    {
     "name": "stdout",
     "output_type": "stream",
     "text": [
      "(0.23569684052142736-0.017667458810044664j)\n",
      "0.23635807524302566 -4.286783332854533\n"
     ]
    }
   ],
   "source": [
    "print(V[x,y])\n",
    "print(np.abs(V[x,y]), np.angle(V[x,y],True))"
   ]
  },
  {
   "cell_type": "markdown",
   "metadata": {},
   "source": [
    "## Even diagonals"
   ]
  },
  {
   "cell_type": "code",
   "execution_count": 58,
   "metadata": {},
   "outputs": [
    {
     "name": "stdout",
     "output_type": "stream",
     "text": [
      "old V:\n",
      "\n",
      "[-0.77+0.17j, -0.28+0.05j, -0.09-0.24j,  0.27+0.3j , -0.27+0.01j]\n",
      "[ 0.12+0.34j, -0.35+0.15j,  0.18-0.j  , -0.43+0.56j,  0.43+0.06j]\n",
      "[-0.21+0.03j,  0.14+0.1j ,  0.79+0.46j,  0.28-0.03j,  0.09+0.11j]\n",
      "[-0.27-0.12j,  0.28+0.79j, -0.02-0.06j, -0.4 -0.2j , -0.  -0.12j]\n",
      "[-0.26-0.23j,  0.2 -0.05j, -0.24-0.1j ,  0.24-0.03j,  0.78+0.31j]\n",
      "\n",
      "\n",
      "NOTE: 3. row was affected!\n",
      "new V:\n",
      "\n",
      "[-0.77+0.17j, -0.28+0.05j, -0.09-0.24j,  0.27+0.3j , -0.27+0.01j]\n",
      "[ 0.12+0.34j, -0.35+0.15j,  0.18-0.j  , -0.43+0.56j,  0.43+0.06j]\n",
      "[-0.19-0.09j,  0.06+0.16j,  0.4 +0.81j,  0.25+0.13j,  0.01+0.14j]\n",
      "[-0.27-0.12j,  0.28+0.79j, -0.02-0.06j, -0.4 -0.2j , -0.  -0.12j]\n",
      "[-0.26-0.23j,  0.2 -0.05j, -0.24-0.1j ,  0.24-0.03j,  0.78+0.31j]\n",
      "\n",
      "\n",
      "Affected elements:\t -0.27-0.12j, -0.19-0.09j\n",
      "Corresponding angles:\t -2.71, -2.71\n",
      "\n",
      "They are NOT matching!\n",
      "\n",
      "Full length of angles:\n",
      " -2.7141252871628736, -2.714125287162873\n",
      "\n",
      "Their difference:\t -4.440892098500626e-16\n"
     ]
    }
   ],
   "source": [
    "V = np.conjugate(U.T)\n",
    "# even diags: 2,4,6...\n",
    "m = U.shape[0]\n",
    "j = 2\n",
    "\n",
    "x = m-j\n",
    "y = 0\n",
    "\n",
    "P = itf.external_ps(m, j, V[x,y], V[x-1,y])\n",
    "print('old V:\\n')\n",
    "print_matrix(V)\n",
    "V = np.matmul(P,V)\n",
    "print(\"NOTE: {}. row was affected!\".format(j+1))\n",
    "print('new V:\\n')\n",
    "print_matrix(V)\n",
    "\n",
    "print_data_ext_ps(V[x,y],V[x-1,y])"
   ]
  },
  {
   "cell_type": "code",
   "execution_count": null,
   "metadata": {},
   "outputs": [],
   "source": []
  },
  {
   "cell_type": "code",
   "execution_count": null,
   "metadata": {},
   "outputs": [],
   "source": []
  }
 ],
 "metadata": {
  "kernelspec": {
   "display_name": "base",
   "language": "python",
   "name": "python3"
  },
  "language_info": {
   "codemirror_mode": {
    "name": "ipython",
    "version": 3
   },
   "file_extension": ".py",
   "mimetype": "text/x-python",
   "name": "python",
   "nbconvert_exporter": "python",
   "pygments_lexer": "ipython3",
   "version": "3.11.9"
  }
 },
 "nbformat": 4,
 "nbformat_minor": 2
}
